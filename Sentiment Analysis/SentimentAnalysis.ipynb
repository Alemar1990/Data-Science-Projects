{
 "cells": [
  {
   "cell_type": "markdown",
   "metadata": {},
   "source": [
    "# Model to predict sentiment"
   ]
  },
  {
   "cell_type": "markdown",
   "metadata": {},
   "source": [
    "Objective is to extract, process and analyze data from the main social networks.\n",
    "\n",
    "### Data:\n",
    "The data set has 114,265 messages previously tagged extracted from the main social networks \n",
    "in order to assess the sentiment of each one of them. It is labeled as follows:\n",
    "     - zero (0) if the comment is positive.\n",
    "     - one (1) if the comment is negative.\n",
    "\n",
    "\n",
    "### Target:\n",
    "In this exercise they will have to develop a suitable model of binary classification of machine\n",
    "learning or deep learning (Tensorflow is recommended), to predict the sentiment of a text.\n",
    "For this, a notebook must be created that contains the step by step of the construction of the model\n",
    "selected described as follows:\n",
    "\n",
    "1. Data extraction and processing:\n",
    "     - Separate training and test data.\n",
    "     - Remove special characters from the text.\n",
    "2. Model architecture.\n",
    "3. Training.\n",
    "4. Test.\n",
    "5. Storage of the model as a function for its application in other texts. "
   ]
  },
  {
   "cell_type": "markdown",
   "metadata": {},
   "source": [
    "# Libraries"
   ]
  },
  {
   "cell_type": "code",
   "execution_count": 62,
   "metadata": {},
   "outputs": [
    {
     "name": "stderr",
     "output_type": "stream",
     "text": [
      "[nltk_data] Downloading package stopwords to\n",
      "[nltk_data]     C:\\Users\\ALEJANDRO\\AppData\\Roaming\\nltk_data...\n",
      "[nltk_data]   Package stopwords is already up-to-date!\n"
     ]
    }
   ],
   "source": [
    "import numpy as np\n",
    "import pandas as pd\n",
    "import re\n",
    "import tensorflow \n",
    "import keras\n",
    "import nltk\n",
    "nltk.download('stopwords')\n",
    "from nltk.corpus import stopwords\n",
    "import matplotlib.pyplot as plt\n",
    "import seaborn as sns\n",
    "import json\n",
    "import pickle\n",
    "\n",
    "from sklearn.model_selection import train_test_split\n",
    "\n",
    "from keras.preprocessing.text import Tokenizer\n",
    "from keras.preprocessing.sequence import pad_sequences\n",
    "from keras.models import Sequential\n",
    "from keras.callbacks import EarlyStopping\n",
    "from keras.callbacks import ModelCheckpoint\n",
    "from keras.layers import Dense\n",
    "from keras.layers import SimpleRNN\n",
    "from keras.layers import Embedding\n",
    "from keras.layers import LSTM\n",
    "from keras.layers import Dropout\n",
    "from keras.layers import GRU\n",
    "from keras.layers import Conv1D\n",
    "from keras.layers import MaxPooling1D\n",
    "from keras.layers import Flatten\n",
    "\n",
    "from sklearn.metrics import confusion_matrix\n",
    "from sklearn.metrics import accuracy_score\n",
    "from sklearn.metrics import precision_score\n",
    "from sklearn.metrics import recall_score\n",
    "from sklearn.metrics import f1_score\n",
    "from sklearn.metrics import roc_auc_score\n",
    "from sklearn.metrics import roc_curve\n",
    "from sklearn.metrics import classification_report\n",
    "from sklearn.metrics import precision_recall_curve\n",
    "from sklearn.metrics import auc"
   ]
  },
  {
   "cell_type": "markdown",
   "metadata": {},
   "source": [
    "# Load dataset"
   ]
  },
  {
   "cell_type": "code",
   "execution_count": 2,
   "metadata": {},
   "outputs": [
    {
     "data": {
      "text/html": [
       "<div>\n",
       "<style scoped>\n",
       "    .dataframe tbody tr th:only-of-type {\n",
       "        vertical-align: middle;\n",
       "    }\n",
       "\n",
       "    .dataframe tbody tr th {\n",
       "        vertical-align: top;\n",
       "    }\n",
       "\n",
       "    .dataframe thead th {\n",
       "        text-align: right;\n",
       "    }\n",
       "</style>\n",
       "<table border=\"1\" class=\"dataframe\">\n",
       "  <thead>\n",
       "    <tr style=\"text-align: right;\">\n",
       "      <th></th>\n",
       "      <th>text</th>\n",
       "      <th>sentimiento_real</th>\n",
       "    </tr>\n",
       "  </thead>\n",
       "  <tbody>\n",
       "    <tr>\n",
       "      <th>0</th>\n",
       "      <td>@Vladi_VillegasP @YouTube @laidygomezf  una co...</td>\n",
       "      <td>0</td>\n",
       "    </tr>\n",
       "    <tr>\n",
       "      <th>1</th>\n",
       "      <td>@Vladialacarta @laidygomezf  yo estoy Orgullos...</td>\n",
       "      <td>0</td>\n",
       "    </tr>\n",
       "    <tr>\n",
       "      <th>2</th>\n",
       "      <td>#SoyComunicadorClap \\n#Táchira: \\n\"Hasta el ir...</td>\n",
       "      <td>0</td>\n",
       "    </tr>\n",
       "    <tr>\n",
       "      <th>3</th>\n",
       "      <td>@VTVcanal8 La \"Reina del Tachira\" Protectora y...</td>\n",
       "      <td>0</td>\n",
       "    </tr>\n",
       "    <tr>\n",
       "      <th>4</th>\n",
       "      <td>Un buen espaldarazo a la institucionalidad ser...</td>\n",
       "      <td>0</td>\n",
       "    </tr>\n",
       "    <tr>\n",
       "      <th>5</th>\n",
       "      <td>Pa'lante mi gobernadora y líder del Táchira! 🏳...</td>\n",
       "      <td>0</td>\n",
       "    </tr>\n",
       "    <tr>\n",
       "      <th>6</th>\n",
       "      <td>#25Ago | El Cambio y Gobernadora de #Táchira a...</td>\n",
       "      <td>0</td>\n",
       "    </tr>\n",
       "    <tr>\n",
       "      <th>7</th>\n",
       "      <td>SENIAT_Oficial: #AlMomento Funcionarios @Senia...</td>\n",
       "      <td>0</td>\n",
       "    </tr>\n",
       "    <tr>\n",
       "      <th>8</th>\n",
       "      <td>#5Sep 🇻🇪🇨🇴 Respecto a la reactivación de las p...</td>\n",
       "      <td>0</td>\n",
       "    </tr>\n",
       "    <tr>\n",
       "      <th>9</th>\n",
       "      <td>@SENIAT_Oficial #EnDesarrollo Funcionarios de ...</td>\n",
       "      <td>0</td>\n",
       "    </tr>\n",
       "  </tbody>\n",
       "</table>\n",
       "</div>"
      ],
      "text/plain": [
       "                                                text  sentimiento_real\n",
       "0  @Vladi_VillegasP @YouTube @laidygomezf  una co...                 0\n",
       "1  @Vladialacarta @laidygomezf  yo estoy Orgullos...                 0\n",
       "2  #SoyComunicadorClap \\n#Táchira: \\n\"Hasta el ir...                 0\n",
       "3  @VTVcanal8 La \"Reina del Tachira\" Protectora y...                 0\n",
       "4  Un buen espaldarazo a la institucionalidad ser...                 0\n",
       "5  Pa'lante mi gobernadora y líder del Táchira! 🏳...                 0\n",
       "6  #25Ago | El Cambio y Gobernadora de #Táchira a...                 0\n",
       "7  SENIAT_Oficial: #AlMomento Funcionarios @Senia...                 0\n",
       "8  #5Sep 🇻🇪🇨🇴 Respecto a la reactivación de las p...                 0\n",
       "9  @SENIAT_Oficial #EnDesarrollo Funcionarios de ...                 0"
      ]
     },
     "execution_count": 2,
     "metadata": {},
     "output_type": "execute_result"
    }
   ],
   "source": [
    "df = pd.read_csv('data.csv')\n",
    "df.head(10)"
   ]
  },
  {
   "cell_type": "markdown",
   "metadata": {},
   "source": [
    "# target variable"
   ]
  },
  {
   "cell_type": "code",
   "execution_count": 3,
   "metadata": {},
   "outputs": [
    {
     "data": {
      "text/plain": [
       "count    114265.000000\n",
       "mean          0.598932\n",
       "std           0.490117\n",
       "min           0.000000\n",
       "25%           0.000000\n",
       "50%           1.000000\n",
       "75%           1.000000\n",
       "max           1.000000\n",
       "Name: sentimiento_real, dtype: float64"
      ]
     },
     "execution_count": 3,
     "metadata": {},
     "output_type": "execute_result"
    }
   ],
   "source": [
    "df['sentimiento_real'].describe()"
   ]
  },
  {
   "cell_type": "code",
   "execution_count": 4,
   "metadata": {},
   "outputs": [
    {
     "data": {
      "text/plain": [
       "1    68437\n",
       "0    45828\n",
       "Name: sentimiento_real, dtype: int64"
      ]
     },
     "execution_count": 4,
     "metadata": {},
     "output_type": "execute_result"
    }
   ],
   "source": [
    "df['sentimiento_real'].value_counts()"
   ]
  },
  {
   "cell_type": "code",
   "execution_count": 5,
   "metadata": {},
   "outputs": [
    {
     "data": {
      "image/png": "[encoded data removed]",
      "text/plain": [
       "<Figure size 720x360 with 1 Axes>"
      ]
     },
     "metadata": {
      "needs_background": "light"
     },
     "output_type": "display_data"
    }
   ],
   "source": [
    "plt.figure(figsize=(10,5))\n",
    "sns.countplot(x=\"sentimiento_real\", data=df)\n",
    "plt.title(\"Message distribution\")\n",
    "plt.ylabel(\"Number of messages\")\n",
    "plt.show()"
   ]
  },
  {
   "cell_type": "raw",
   "metadata": {},
   "source": [
    "In the raw data, approximately 60% of the comments are negative and the remaining 40% are positive."
   ]
  },
  {
   "cell_type": "markdown",
   "metadata": {},
   "source": [
    "# Data processing"
   ]
  },
  {
   "cell_type": "markdown",
   "metadata": {},
   "source": [
    "## Remove accents"
   ]
  },
  {
   "cell_type": "code",
   "execution_count": 6,
   "metadata": {},
   "outputs": [],
   "source": [
    "a,b = 'áéíóúüñÁÉÍÓÚÜ','aeiouunAEIOUU'\n",
    "trans = str.maketrans(a,b)"
   ]
  },
  {
   "cell_type": "code",
   "execution_count": 7,
   "metadata": {},
   "outputs": [
    {
     "data": {
      "text/html": [
       "<div>\n",
       "<style scoped>\n",
       "    .dataframe tbody tr th:only-of-type {\n",
       "        vertical-align: middle;\n",
       "    }\n",
       "\n",
       "    .dataframe tbody tr th {\n",
       "        vertical-align: top;\n",
       "    }\n",
       "\n",
       "    .dataframe thead th {\n",
       "        text-align: right;\n",
       "    }\n",
       "</style>\n",
       "<table border=\"1\" class=\"dataframe\">\n",
       "  <thead>\n",
       "    <tr style=\"text-align: right;\">\n",
       "      <th></th>\n",
       "      <th>text</th>\n",
       "      <th>sentimiento_real</th>\n",
       "    </tr>\n",
       "  </thead>\n",
       "  <tbody>\n",
       "    <tr>\n",
       "      <th>0</th>\n",
       "      <td>@Vladi_VillegasP @YouTube @laidygomezf  una co...</td>\n",
       "      <td>0</td>\n",
       "    </tr>\n",
       "    <tr>\n",
       "      <th>1</th>\n",
       "      <td>@Vladialacarta @laidygomezf  yo estoy Orgullos...</td>\n",
       "      <td>0</td>\n",
       "    </tr>\n",
       "    <tr>\n",
       "      <th>2</th>\n",
       "      <td>#SoyComunicadorClap \\n#Tachira: \\n\"Hasta el ir...</td>\n",
       "      <td>0</td>\n",
       "    </tr>\n",
       "    <tr>\n",
       "      <th>3</th>\n",
       "      <td>@VTVcanal8 La \"Reina del Tachira\" Protectora y...</td>\n",
       "      <td>0</td>\n",
       "    </tr>\n",
       "    <tr>\n",
       "      <th>4</th>\n",
       "      <td>Un buen espaldarazo a la institucionalidad ser...</td>\n",
       "      <td>0</td>\n",
       "    </tr>\n",
       "    <tr>\n",
       "      <th>5</th>\n",
       "      <td>Pa'lante mi gobernadora y lider del Tachira! 🏳...</td>\n",
       "      <td>0</td>\n",
       "    </tr>\n",
       "    <tr>\n",
       "      <th>6</th>\n",
       "      <td>#25Ago | El Cambio y Gobernadora de #Tachira a...</td>\n",
       "      <td>0</td>\n",
       "    </tr>\n",
       "    <tr>\n",
       "      <th>7</th>\n",
       "      <td>SENIAT_Oficial: #AlMomento Funcionarios @Senia...</td>\n",
       "      <td>0</td>\n",
       "    </tr>\n",
       "    <tr>\n",
       "      <th>8</th>\n",
       "      <td>#5Sep 🇻🇪🇨🇴 Respecto a la reactivacion de las p...</td>\n",
       "      <td>0</td>\n",
       "    </tr>\n",
       "    <tr>\n",
       "      <th>9</th>\n",
       "      <td>@SENIAT_Oficial #EnDesarrollo Funcionarios de ...</td>\n",
       "      <td>0</td>\n",
       "    </tr>\n",
       "  </tbody>\n",
       "</table>\n",
       "</div>"
      ],
      "text/plain": [
       "                                                text  sentimiento_real\n",
       "0  @Vladi_VillegasP @YouTube @laidygomezf  una co...                 0\n",
       "1  @Vladialacarta @laidygomezf  yo estoy Orgullos...                 0\n",
       "2  #SoyComunicadorClap \\n#Tachira: \\n\"Hasta el ir...                 0\n",
       "3  @VTVcanal8 La \"Reina del Tachira\" Protectora y...                 0\n",
       "4  Un buen espaldarazo a la institucionalidad ser...                 0\n",
       "5  Pa'lante mi gobernadora y lider del Tachira! 🏳...                 0\n",
       "6  #25Ago | El Cambio y Gobernadora de #Tachira a...                 0\n",
       "7  SENIAT_Oficial: #AlMomento Funcionarios @Senia...                 0\n",
       "8  #5Sep 🇻🇪🇨🇴 Respecto a la reactivacion de las p...                 0\n",
       "9  @SENIAT_Oficial #EnDesarrollo Funcionarios de ...                 0"
      ]
     },
     "execution_count": 7,
     "metadata": {},
     "output_type": "execute_result"
    }
   ],
   "source": [
    "df['text'] = df['text'].str.translate(trans)\n",
    "df.head(10)"
   ]
  },
  {
   "cell_type": "markdown",
   "metadata": {},
   "source": [
    "## Remove tabs and line breaks"
   ]
  },
  {
   "cell_type": "code",
   "execution_count": 8,
   "metadata": {},
   "outputs": [
    {
     "data": {
      "text/html": [
       "<div>\n",
       "<style scoped>\n",
       "    .dataframe tbody tr th:only-of-type {\n",
       "        vertical-align: middle;\n",
       "    }\n",
       "\n",
       "    .dataframe tbody tr th {\n",
       "        vertical-align: top;\n",
       "    }\n",
       "\n",
       "    .dataframe thead th {\n",
       "        text-align: right;\n",
       "    }\n",
       "</style>\n",
       "<table border=\"1\" class=\"dataframe\">\n",
       "  <thead>\n",
       "    <tr style=\"text-align: right;\">\n",
       "      <th></th>\n",
       "      <th>text</th>\n",
       "      <th>sentimiento_real</th>\n",
       "    </tr>\n",
       "  </thead>\n",
       "  <tbody>\n",
       "    <tr>\n",
       "      <th>0</th>\n",
       "      <td>@Vladi_VillegasP @YouTube @laidygomezf  una co...</td>\n",
       "      <td>0</td>\n",
       "    </tr>\n",
       "    <tr>\n",
       "      <th>1</th>\n",
       "      <td>@Vladialacarta @laidygomezf  yo estoy Orgullos...</td>\n",
       "      <td>0</td>\n",
       "    </tr>\n",
       "    <tr>\n",
       "      <th>2</th>\n",
       "      <td>#SoyComunicadorClap  #Tachira:  \"Hasta el irre...</td>\n",
       "      <td>0</td>\n",
       "    </tr>\n",
       "    <tr>\n",
       "      <th>3</th>\n",
       "      <td>@VTVcanal8 La \"Reina del Tachira\" Protectora y...</td>\n",
       "      <td>0</td>\n",
       "    </tr>\n",
       "    <tr>\n",
       "      <th>4</th>\n",
       "      <td>Un buen espaldarazo a la institucionalidad ser...</td>\n",
       "      <td>0</td>\n",
       "    </tr>\n",
       "    <tr>\n",
       "      <th>5</th>\n",
       "      <td>Pa'lante mi gobernadora y lider del Tachira! 🏳...</td>\n",
       "      <td>0</td>\n",
       "    </tr>\n",
       "    <tr>\n",
       "      <th>6</th>\n",
       "      <td>#25Ago | El Cambio y Gobernadora de #Tachira a...</td>\n",
       "      <td>0</td>\n",
       "    </tr>\n",
       "    <tr>\n",
       "      <th>7</th>\n",
       "      <td>SENIAT_Oficial: #AlMomento Funcionarios @Senia...</td>\n",
       "      <td>0</td>\n",
       "    </tr>\n",
       "    <tr>\n",
       "      <th>8</th>\n",
       "      <td>#5Sep 🇻🇪🇨🇴 Respecto a la reactivacion de las p...</td>\n",
       "      <td>0</td>\n",
       "    </tr>\n",
       "    <tr>\n",
       "      <th>9</th>\n",
       "      <td>@SENIAT_Oficial #EnDesarrollo Funcionarios de ...</td>\n",
       "      <td>0</td>\n",
       "    </tr>\n",
       "  </tbody>\n",
       "</table>\n",
       "</div>"
      ],
      "text/plain": [
       "                                                text  sentimiento_real\n",
       "0  @Vladi_VillegasP @YouTube @laidygomezf  una co...                 0\n",
       "1  @Vladialacarta @laidygomezf  yo estoy Orgullos...                 0\n",
       "2  #SoyComunicadorClap  #Tachira:  \"Hasta el irre...                 0\n",
       "3  @VTVcanal8 La \"Reina del Tachira\" Protectora y...                 0\n",
       "4  Un buen espaldarazo a la institucionalidad ser...                 0\n",
       "5  Pa'lante mi gobernadora y lider del Tachira! 🏳...                 0\n",
       "6  #25Ago | El Cambio y Gobernadora de #Tachira a...                 0\n",
       "7  SENIAT_Oficial: #AlMomento Funcionarios @Senia...                 0\n",
       "8  #5Sep 🇻🇪🇨🇴 Respecto a la reactivacion de las p...                 0\n",
       "9  @SENIAT_Oficial #EnDesarrollo Funcionarios de ...                 0"
      ]
     },
     "execution_count": 8,
     "metadata": {},
     "output_type": "execute_result"
    }
   ],
   "source": [
    "df['text'] = df['text'].str.replace(\"[\\n,\\t]\", ' ', regex=True)\n",
    "df.head(10)"
   ]
  },
  {
   "cell_type": "markdown",
   "metadata": {},
   "source": [
    "## Remove tags, links and numbers"
   ]
  },
  {
   "cell_type": "raw",
   "metadata": {},
   "source": [
    "(@[A-Za-z0-9\\_\\-\\.]+): Removes all strings that start with @ and contain uppercase, lowercase, numbers, and some special characters.\n",
    "(\\w+:\\/\\/\\S+): Remove https links:\n",
    "(\\d+[\\w+\\-\\/]*): Removes all strings that start with one or more digits and that may or may not be followed by letters\n",
    "(www\\.\\S+): Remove www links"
   ]
  },
  {
   "cell_type": "code",
   "execution_count": 9,
   "metadata": {},
   "outputs": [
    {
     "data": {
      "text/html": [
       "<div>\n",
       "<style scoped>\n",
       "    .dataframe tbody tr th:only-of-type {\n",
       "        vertical-align: middle;\n",
       "    }\n",
       "\n",
       "    .dataframe tbody tr th {\n",
       "        vertical-align: top;\n",
       "    }\n",
       "\n",
       "    .dataframe thead th {\n",
       "        text-align: right;\n",
       "    }\n",
       "</style>\n",
       "<table border=\"1\" class=\"dataframe\">\n",
       "  <thead>\n",
       "    <tr style=\"text-align: right;\">\n",
       "      <th></th>\n",
       "      <th>text</th>\n",
       "      <th>sentimiento_real</th>\n",
       "    </tr>\n",
       "  </thead>\n",
       "  <tbody>\n",
       "    <tr>\n",
       "      <th>0</th>\n",
       "      <td>una combinacion perfecta entre belleza e i...</td>\n",
       "      <td>0</td>\n",
       "    </tr>\n",
       "    <tr>\n",
       "      <th>1</th>\n",
       "      <td>yo estoy Orgulloso de usted gran mujer y ej...</td>\n",
       "      <td>0</td>\n",
       "    </tr>\n",
       "    <tr>\n",
       "      <th>2</th>\n",
       "      <td>#SoyComunicadorClap  #Tachira:  \"Hasta el irre...</td>\n",
       "      <td>0</td>\n",
       "    </tr>\n",
       "    <tr>\n",
       "      <th>3</th>\n",
       "      <td>La \"Reina del Tachira\" Protectora y proxima G...</td>\n",
       "      <td>0</td>\n",
       "    </tr>\n",
       "    <tr>\n",
       "      <th>4</th>\n",
       "      <td>Un buen espaldarazo a la institucionalidad ser...</td>\n",
       "      <td>0</td>\n",
       "    </tr>\n",
       "    <tr>\n",
       "      <th>5</th>\n",
       "      <td>Pa'lante mi gobernadora y lider del Tachira! 🏳...</td>\n",
       "      <td>0</td>\n",
       "    </tr>\n",
       "    <tr>\n",
       "      <th>6</th>\n",
       "      <td># | El Cambio y Gobernadora de #Tachira atiend...</td>\n",
       "      <td>0</td>\n",
       "    </tr>\n",
       "    <tr>\n",
       "      <th>7</th>\n",
       "      <td>SENIAT_Oficial: #AlMomento Funcionarios  reali...</td>\n",
       "      <td>0</td>\n",
       "    </tr>\n",
       "    <tr>\n",
       "      <th>8</th>\n",
       "      <td># 🇻🇪🇨🇴 Respecto a la reactivacion de las plata...</td>\n",
       "      <td>0</td>\n",
       "    </tr>\n",
       "    <tr>\n",
       "      <th>9</th>\n",
       "      <td>#EnDesarrollo Funcionarios de  culminan Opera...</td>\n",
       "      <td>0</td>\n",
       "    </tr>\n",
       "  </tbody>\n",
       "</table>\n",
       "</div>"
      ],
      "text/plain": [
       "                                                text  sentimiento_real\n",
       "0      una combinacion perfecta entre belleza e i...                 0\n",
       "1     yo estoy Orgulloso de usted gran mujer y ej...                 0\n",
       "2  #SoyComunicadorClap  #Tachira:  \"Hasta el irre...                 0\n",
       "3   La \"Reina del Tachira\" Protectora y proxima G...                 0\n",
       "4  Un buen espaldarazo a la institucionalidad ser...                 0\n",
       "5  Pa'lante mi gobernadora y lider del Tachira! 🏳...                 0\n",
       "6  # | El Cambio y Gobernadora de #Tachira atiend...                 0\n",
       "7  SENIAT_Oficial: #AlMomento Funcionarios  reali...                 0\n",
       "8  # 🇻🇪🇨🇴 Respecto a la reactivacion de las plata...                 0\n",
       "9   #EnDesarrollo Funcionarios de  culminan Opera...                 0"
      ]
     },
     "execution_count": 9,
     "metadata": {},
     "output_type": "execute_result"
    }
   ],
   "source": [
    "df[\"text\"] = df[\"text\"].str.replace(\"(@[A-Za-z0-9\\_\\-\\.]+)|(\\w+:\\/\\/\\S+)|(\\d+[\\w+\\-\\/]*)|(www\\.\\S+)\", \"\", regex=True) \n",
    "df.head(10)"
   ]
  },
  {
   "cell_type": "markdown",
   "metadata": {},
   "source": [
    "## Remove Special Characters"
   ]
  },
  {
   "cell_type": "code",
   "execution_count": 10,
   "metadata": {},
   "outputs": [
    {
     "data": {
      "text/html": [
       "<div>\n",
       "<style scoped>\n",
       "    .dataframe tbody tr th:only-of-type {\n",
       "        vertical-align: middle;\n",
       "    }\n",
       "\n",
       "    .dataframe tbody tr th {\n",
       "        vertical-align: top;\n",
       "    }\n",
       "\n",
       "    .dataframe thead th {\n",
       "        text-align: right;\n",
       "    }\n",
       "</style>\n",
       "<table border=\"1\" class=\"dataframe\">\n",
       "  <thead>\n",
       "    <tr style=\"text-align: right;\">\n",
       "      <th></th>\n",
       "      <th>text</th>\n",
       "      <th>sentimiento_real</th>\n",
       "    </tr>\n",
       "  </thead>\n",
       "  <tbody>\n",
       "    <tr>\n",
       "      <th>0</th>\n",
       "      <td>una combinacion perfecta entre belleza e i...</td>\n",
       "      <td>0</td>\n",
       "    </tr>\n",
       "    <tr>\n",
       "      <th>1</th>\n",
       "      <td>yo estoy Orgulloso de usted gran mujer y ej...</td>\n",
       "      <td>0</td>\n",
       "    </tr>\n",
       "    <tr>\n",
       "      <th>2</th>\n",
       "      <td>SoyComunicadorClap  Tachira  Hasta el irrespon...</td>\n",
       "      <td>0</td>\n",
       "    </tr>\n",
       "    <tr>\n",
       "      <th>3</th>\n",
       "      <td>La Reina del Tachira Protectora y proxima Gob...</td>\n",
       "      <td>0</td>\n",
       "    </tr>\n",
       "    <tr>\n",
       "      <th>4</th>\n",
       "      <td>Un buen espaldarazo a la institucionalidad ser...</td>\n",
       "      <td>0</td>\n",
       "    </tr>\n",
       "    <tr>\n",
       "      <th>5</th>\n",
       "      <td>Palante mi gobernadora y lider del Tachira 🏳️🏳...</td>\n",
       "      <td>0</td>\n",
       "    </tr>\n",
       "    <tr>\n",
       "      <th>6</th>\n",
       "      <td>El Cambio y Gobernadora de Tachira atienden ...</td>\n",
       "      <td>0</td>\n",
       "    </tr>\n",
       "    <tr>\n",
       "      <th>7</th>\n",
       "      <td>SENIAT_Oficial AlMomento Funcionarios  realiza...</td>\n",
       "      <td>0</td>\n",
       "    </tr>\n",
       "    <tr>\n",
       "      <th>8</th>\n",
       "      <td>🇻🇪🇨🇴 Respecto a la reactivacion de las plataf...</td>\n",
       "      <td>0</td>\n",
       "    </tr>\n",
       "    <tr>\n",
       "      <th>9</th>\n",
       "      <td>EnDesarrollo Funcionarios de  culminan Operat...</td>\n",
       "      <td>0</td>\n",
       "    </tr>\n",
       "  </tbody>\n",
       "</table>\n",
       "</div>"
      ],
      "text/plain": [
       "                                                text  sentimiento_real\n",
       "0      una combinacion perfecta entre belleza e i...                 0\n",
       "1     yo estoy Orgulloso de usted gran mujer y ej...                 0\n",
       "2  SoyComunicadorClap  Tachira  Hasta el irrespon...                 0\n",
       "3   La Reina del Tachira Protectora y proxima Gob...                 0\n",
       "4  Un buen espaldarazo a la institucionalidad ser...                 0\n",
       "5  Palante mi gobernadora y lider del Tachira 🏳️🏳...                 0\n",
       "6    El Cambio y Gobernadora de Tachira atienden ...                 0\n",
       "7  SENIAT_Oficial AlMomento Funcionarios  realiza...                 0\n",
       "8   🇻🇪🇨🇴 Respecto a la reactivacion de las plataf...                 0\n",
       "9   EnDesarrollo Funcionarios de  culminan Operat...                 0"
      ]
     },
     "execution_count": 10,
     "metadata": {},
     "output_type": "execute_result"
    }
   ],
   "source": [
    "df[\"text\"] = df[\"text\"].str.replace(\"[#,&,$,!,',),(,-,*,;,:,|,\\\",.,?,¿,¡]\",'',regex=True)\n",
    "df.head(10)"
   ]
  },
  {
   "cell_type": "markdown",
   "metadata": {},
   "source": [
    "## Remove emojis"
   ]
  },
  {
   "cell_type": "code",
   "execution_count": 11,
   "metadata": {},
   "outputs": [],
   "source": [
    "def remove_emojis(data):\n",
    "    emoj = re.compile(\"[\"\n",
    "        u\"\\U0001F600-\\U0001F64F\"  # emoticons\n",
    "        u\"\\U0001F300-\\U0001F5FF\"  # symbols and pictograms\n",
    "        u\"\\U0001F680-\\U0001F6FF\"  # transport and map symbols\n",
    "        u\"\\U0001F1E0-\\U0001F1FF\"  # flags (iOS)\n",
    "        u\"\\U00002500-\\U00002BEF\"  # chinese symbols\n",
    "                      \"]+\", re.UNICODE)\n",
    "    return re.sub(emoj, '', data)"
   ]
  },
  {
   "cell_type": "code",
   "execution_count": 12,
   "metadata": {},
   "outputs": [
    {
     "data": {
      "text/html": [
       "<div>\n",
       "<style scoped>\n",
       "    .dataframe tbody tr th:only-of-type {\n",
       "        vertical-align: middle;\n",
       "    }\n",
       "\n",
       "    .dataframe tbody tr th {\n",
       "        vertical-align: top;\n",
       "    }\n",
       "\n",
       "    .dataframe thead th {\n",
       "        text-align: right;\n",
       "    }\n",
       "</style>\n",
       "<table border=\"1\" class=\"dataframe\">\n",
       "  <thead>\n",
       "    <tr style=\"text-align: right;\">\n",
       "      <th></th>\n",
       "      <th>text</th>\n",
       "      <th>sentimiento_real</th>\n",
       "    </tr>\n",
       "  </thead>\n",
       "  <tbody>\n",
       "    <tr>\n",
       "      <th>0</th>\n",
       "      <td>una combinacion perfecta entre belleza e i...</td>\n",
       "      <td>0</td>\n",
       "    </tr>\n",
       "    <tr>\n",
       "      <th>1</th>\n",
       "      <td>yo estoy Orgulloso de usted gran mujer y ej...</td>\n",
       "      <td>0</td>\n",
       "    </tr>\n",
       "    <tr>\n",
       "      <th>2</th>\n",
       "      <td>SoyComunicadorClap  Tachira  Hasta el irrespon...</td>\n",
       "      <td>0</td>\n",
       "    </tr>\n",
       "    <tr>\n",
       "      <th>3</th>\n",
       "      <td>La Reina del Tachira Protectora y proxima Gob...</td>\n",
       "      <td>0</td>\n",
       "    </tr>\n",
       "    <tr>\n",
       "      <th>4</th>\n",
       "      <td>Un buen espaldarazo a la institucionalidad ser...</td>\n",
       "      <td>0</td>\n",
       "    </tr>\n",
       "    <tr>\n",
       "      <th>5</th>\n",
       "      <td>Palante mi gobernadora y lider del Tachira ️️️</td>\n",
       "      <td>0</td>\n",
       "    </tr>\n",
       "    <tr>\n",
       "      <th>6</th>\n",
       "      <td>El Cambio y Gobernadora de Tachira atienden ...</td>\n",
       "      <td>0</td>\n",
       "    </tr>\n",
       "    <tr>\n",
       "      <th>7</th>\n",
       "      <td>SENIAT_Oficial AlMomento Funcionarios  realiza...</td>\n",
       "      <td>0</td>\n",
       "    </tr>\n",
       "    <tr>\n",
       "      <th>8</th>\n",
       "      <td>Respecto a la reactivacion de las plataforma...</td>\n",
       "      <td>0</td>\n",
       "    </tr>\n",
       "    <tr>\n",
       "      <th>9</th>\n",
       "      <td>EnDesarrollo Funcionarios de  culminan Operat...</td>\n",
       "      <td>0</td>\n",
       "    </tr>\n",
       "  </tbody>\n",
       "</table>\n",
       "</div>"
      ],
      "text/plain": [
       "                                                text  sentimiento_real\n",
       "0      una combinacion perfecta entre belleza e i...                 0\n",
       "1     yo estoy Orgulloso de usted gran mujer y ej...                 0\n",
       "2  SoyComunicadorClap  Tachira  Hasta el irrespon...                 0\n",
       "3   La Reina del Tachira Protectora y proxima Gob...                 0\n",
       "4  Un buen espaldarazo a la institucionalidad ser...                 0\n",
       "5    Palante mi gobernadora y lider del Tachira ️️️                  0\n",
       "6    El Cambio y Gobernadora de Tachira atienden ...                 0\n",
       "7  SENIAT_Oficial AlMomento Funcionarios  realiza...                 0\n",
       "8    Respecto a la reactivacion de las plataforma...                 0\n",
       "9   EnDesarrollo Funcionarios de  culminan Operat...                 0"
      ]
     },
     "execution_count": 12,
     "metadata": {},
     "output_type": "execute_result"
    }
   ],
   "source": [
    "df[\"text\"] = df[\"text\"].apply(remove_emojis)\n",
    "df.head(10)"
   ]
  },
  {
   "cell_type": "markdown",
   "metadata": {},
   "source": [
    "## Remove leading and trailing spaces"
   ]
  },
  {
   "cell_type": "code",
   "execution_count": 13,
   "metadata": {},
   "outputs": [
    {
     "data": {
      "text/html": [
       "<div>\n",
       "<style scoped>\n",
       "    .dataframe tbody tr th:only-of-type {\n",
       "        vertical-align: middle;\n",
       "    }\n",
       "\n",
       "    .dataframe tbody tr th {\n",
       "        vertical-align: top;\n",
       "    }\n",
       "\n",
       "    .dataframe thead th {\n",
       "        text-align: right;\n",
       "    }\n",
       "</style>\n",
       "<table border=\"1\" class=\"dataframe\">\n",
       "  <thead>\n",
       "    <tr style=\"text-align: right;\">\n",
       "      <th></th>\n",
       "      <th>text</th>\n",
       "      <th>sentimiento_real</th>\n",
       "    </tr>\n",
       "  </thead>\n",
       "  <tbody>\n",
       "    <tr>\n",
       "      <th>0</th>\n",
       "      <td>una combinacion perfecta entre belleza e intel...</td>\n",
       "      <td>0</td>\n",
       "    </tr>\n",
       "    <tr>\n",
       "      <th>1</th>\n",
       "      <td>yo estoy Orgulloso de usted gran mujer y ejemp...</td>\n",
       "      <td>0</td>\n",
       "    </tr>\n",
       "    <tr>\n",
       "      <th>2</th>\n",
       "      <td>SoyComunicadorClap  Tachira  Hasta el irrespon...</td>\n",
       "      <td>0</td>\n",
       "    </tr>\n",
       "    <tr>\n",
       "      <th>3</th>\n",
       "      <td>La Reina del Tachira Protectora y proxima Gobe...</td>\n",
       "      <td>0</td>\n",
       "    </tr>\n",
       "    <tr>\n",
       "      <th>4</th>\n",
       "      <td>Un buen espaldarazo a la institucionalidad ser...</td>\n",
       "      <td>0</td>\n",
       "    </tr>\n",
       "    <tr>\n",
       "      <th>5</th>\n",
       "      <td>Palante mi gobernadora y lider del Tachira ️️️</td>\n",
       "      <td>0</td>\n",
       "    </tr>\n",
       "    <tr>\n",
       "      <th>6</th>\n",
       "      <td>El Cambio y Gobernadora de Tachira atienden co...</td>\n",
       "      <td>0</td>\n",
       "    </tr>\n",
       "    <tr>\n",
       "      <th>7</th>\n",
       "      <td>SENIAT_Oficial AlMomento Funcionarios  realiza...</td>\n",
       "      <td>0</td>\n",
       "    </tr>\n",
       "    <tr>\n",
       "      <th>8</th>\n",
       "      <td>Respecto a la reactivacion de las plataformas ...</td>\n",
       "      <td>0</td>\n",
       "    </tr>\n",
       "    <tr>\n",
       "      <th>9</th>\n",
       "      <td>EnDesarrollo Funcionarios de  culminan Operati...</td>\n",
       "      <td>0</td>\n",
       "    </tr>\n",
       "  </tbody>\n",
       "</table>\n",
       "</div>"
      ],
      "text/plain": [
       "                                                text  sentimiento_real\n",
       "0  una combinacion perfecta entre belleza e intel...                 0\n",
       "1  yo estoy Orgulloso de usted gran mujer y ejemp...                 0\n",
       "2  SoyComunicadorClap  Tachira  Hasta el irrespon...                 0\n",
       "3  La Reina del Tachira Protectora y proxima Gobe...                 0\n",
       "4  Un buen espaldarazo a la institucionalidad ser...                 0\n",
       "5     Palante mi gobernadora y lider del Tachira ️️️                 0\n",
       "6  El Cambio y Gobernadora de Tachira atienden co...                 0\n",
       "7  SENIAT_Oficial AlMomento Funcionarios  realiza...                 0\n",
       "8  Respecto a la reactivacion de las plataformas ...                 0\n",
       "9  EnDesarrollo Funcionarios de  culminan Operati...                 0"
      ]
     },
     "execution_count": 13,
     "metadata": {},
     "output_type": "execute_result"
    }
   ],
   "source": [
    "df[\"text\"] = df[\"text\"].str.strip()\n",
    "df.head(10)"
   ]
  },
  {
   "cell_type": "markdown",
   "metadata": {},
   "source": [
    "## Transform to lowercase"
   ]
  },
  {
   "cell_type": "code",
   "execution_count": 14,
   "metadata": {},
   "outputs": [
    {
     "data": {
      "text/html": [
       "<div>\n",
       "<style scoped>\n",
       "    .dataframe tbody tr th:only-of-type {\n",
       "        vertical-align: middle;\n",
       "    }\n",
       "\n",
       "    .dataframe tbody tr th {\n",
       "        vertical-align: top;\n",
       "    }\n",
       "\n",
       "    .dataframe thead th {\n",
       "        text-align: right;\n",
       "    }\n",
       "</style>\n",
       "<table border=\"1\" class=\"dataframe\">\n",
       "  <thead>\n",
       "    <tr style=\"text-align: right;\">\n",
       "      <th></th>\n",
       "      <th>text</th>\n",
       "      <th>sentimiento_real</th>\n",
       "    </tr>\n",
       "  </thead>\n",
       "  <tbody>\n",
       "    <tr>\n",
       "      <th>0</th>\n",
       "      <td>una combinacion perfecta entre belleza e intel...</td>\n",
       "      <td>0</td>\n",
       "    </tr>\n",
       "    <tr>\n",
       "      <th>1</th>\n",
       "      <td>yo estoy orgulloso de usted gran mujer y ejemp...</td>\n",
       "      <td>0</td>\n",
       "    </tr>\n",
       "    <tr>\n",
       "      <th>2</th>\n",
       "      <td>soycomunicadorclap  tachira  hasta el irrespon...</td>\n",
       "      <td>0</td>\n",
       "    </tr>\n",
       "    <tr>\n",
       "      <th>3</th>\n",
       "      <td>la reina del tachira protectora y proxima gobe...</td>\n",
       "      <td>0</td>\n",
       "    </tr>\n",
       "    <tr>\n",
       "      <th>4</th>\n",
       "      <td>un buen espaldarazo a la institucionalidad ser...</td>\n",
       "      <td>0</td>\n",
       "    </tr>\n",
       "    <tr>\n",
       "      <th>5</th>\n",
       "      <td>palante mi gobernadora y lider del tachira ️️️</td>\n",
       "      <td>0</td>\n",
       "    </tr>\n",
       "    <tr>\n",
       "      <th>6</th>\n",
       "      <td>el cambio y gobernadora de tachira atienden co...</td>\n",
       "      <td>0</td>\n",
       "    </tr>\n",
       "    <tr>\n",
       "      <th>7</th>\n",
       "      <td>seniat_oficial almomento funcionarios  realiza...</td>\n",
       "      <td>0</td>\n",
       "    </tr>\n",
       "    <tr>\n",
       "      <th>8</th>\n",
       "      <td>respecto a la reactivacion de las plataformas ...</td>\n",
       "      <td>0</td>\n",
       "    </tr>\n",
       "    <tr>\n",
       "      <th>9</th>\n",
       "      <td>endesarrollo funcionarios de  culminan operati...</td>\n",
       "      <td>0</td>\n",
       "    </tr>\n",
       "  </tbody>\n",
       "</table>\n",
       "</div>"
      ],
      "text/plain": [
       "                                                text  sentimiento_real\n",
       "0  una combinacion perfecta entre belleza e intel...                 0\n",
       "1  yo estoy orgulloso de usted gran mujer y ejemp...                 0\n",
       "2  soycomunicadorclap  tachira  hasta el irrespon...                 0\n",
       "3  la reina del tachira protectora y proxima gobe...                 0\n",
       "4  un buen espaldarazo a la institucionalidad ser...                 0\n",
       "5     palante mi gobernadora y lider del tachira ️️️                 0\n",
       "6  el cambio y gobernadora de tachira atienden co...                 0\n",
       "7  seniat_oficial almomento funcionarios  realiza...                 0\n",
       "8  respecto a la reactivacion de las plataformas ...                 0\n",
       "9  endesarrollo funcionarios de  culminan operati...                 0"
      ]
     },
     "execution_count": 14,
     "metadata": {},
     "output_type": "execute_result"
    }
   ],
   "source": [
    "df[\"text\"] = df[\"text\"].str.lower()\n",
    "df.head(10)"
   ]
  },
  {
   "cell_type": "markdown",
   "metadata": {},
   "source": [
    "## Remove duplicates"
   ]
  },
  {
   "cell_type": "code",
   "execution_count": 15,
   "metadata": {},
   "outputs": [
    {
     "data": {
      "text/html": [
       "<div>\n",
       "<style scoped>\n",
       "    .dataframe tbody tr th:only-of-type {\n",
       "        vertical-align: middle;\n",
       "    }\n",
       "\n",
       "    .dataframe tbody tr th {\n",
       "        vertical-align: top;\n",
       "    }\n",
       "\n",
       "    .dataframe thead th {\n",
       "        text-align: right;\n",
       "    }\n",
       "</style>\n",
       "<table border=\"1\" class=\"dataframe\">\n",
       "  <thead>\n",
       "    <tr style=\"text-align: right;\">\n",
       "      <th></th>\n",
       "      <th>text</th>\n",
       "      <th>sentimiento_real</th>\n",
       "    </tr>\n",
       "  </thead>\n",
       "  <tbody>\n",
       "    <tr>\n",
       "      <th>14</th>\n",
       "      <td>endesarrollo funcionarios de  culminan operati...</td>\n",
       "      <td>0</td>\n",
       "    </tr>\n",
       "    <tr>\n",
       "      <th>18</th>\n",
       "      <td>funcionarios de  realizan operativo de verific...</td>\n",
       "      <td>0</td>\n",
       "    </tr>\n",
       "    <tr>\n",
       "      <th>25</th>\n",
       "      <td>frontera del tachira con cucuta cerca de posib...</td>\n",
       "      <td>0</td>\n",
       "    </tr>\n",
       "    <tr>\n",
       "      <th>27</th>\n",
       "      <td>frontera del tachira con cucuta cerca de posib...</td>\n",
       "      <td>0</td>\n",
       "    </tr>\n",
       "    <tr>\n",
       "      <th>28</th>\n",
       "      <td>frontera del tachira con cucuta cerca de posib...</td>\n",
       "      <td>0</td>\n",
       "    </tr>\n",
       "    <tr>\n",
       "      <th>...</th>\n",
       "      <td>...</td>\n",
       "      <td>...</td>\n",
       "    </tr>\n",
       "    <tr>\n",
       "      <th>114192</th>\n",
       "      <td>mardito banco de  ladrones a las perdonas que ...</td>\n",
       "      <td>1</td>\n",
       "    </tr>\n",
       "    <tr>\n",
       "      <th>114207</th>\n",
       "      <td>ladrones</td>\n",
       "      <td>1</td>\n",
       "    </tr>\n",
       "    <tr>\n",
       "      <th>114238</th>\n",
       "      <td>mardito banco de  ladrones a las perdonas que ...</td>\n",
       "      <td>1</td>\n",
       "    </tr>\n",
       "    <tr>\n",
       "      <th>114239</th>\n",
       "      <td>mardito banco de  ladrones a las perdonas que ...</td>\n",
       "      <td>1</td>\n",
       "    </tr>\n",
       "    <tr>\n",
       "      <th>114264</th>\n",
       "      <td>buenas  le escribe damaso arrieche virepresent...</td>\n",
       "      <td>1</td>\n",
       "    </tr>\n",
       "  </tbody>\n",
       "</table>\n",
       "<p>35110 rows × 2 columns</p>\n",
       "</div>"
      ],
      "text/plain": [
       "                                                     text  sentimiento_real\n",
       "14      endesarrollo funcionarios de  culminan operati...                 0\n",
       "18      funcionarios de  realizan operativo de verific...                 0\n",
       "25      frontera del tachira con cucuta cerca de posib...                 0\n",
       "27      frontera del tachira con cucuta cerca de posib...                 0\n",
       "28      frontera del tachira con cucuta cerca de posib...                 0\n",
       "...                                                   ...               ...\n",
       "114192  mardito banco de  ladrones a las perdonas que ...                 1\n",
       "114207                                           ladrones                 1\n",
       "114238  mardito banco de  ladrones a las perdonas que ...                 1\n",
       "114239  mardito banco de  ladrones a las perdonas que ...                 1\n",
       "114264  buenas  le escribe damaso arrieche virepresent...                 1\n",
       "\n",
       "[35110 rows x 2 columns]"
      ]
     },
     "execution_count": 15,
     "metadata": {},
     "output_type": "execute_result"
    }
   ],
   "source": [
    "df[df.duplicated([\"text\"])]"
   ]
  },
  {
   "cell_type": "raw",
   "metadata": {},
   "source": [
    "There are 35110 duplicates considering only the text variable"
   ]
  },
  {
   "cell_type": "code",
   "execution_count": 16,
   "metadata": {},
   "outputs": [
    {
     "data": {
      "text/html": [
       "<div>\n",
       "<style scoped>\n",
       "    .dataframe tbody tr th:only-of-type {\n",
       "        vertical-align: middle;\n",
       "    }\n",
       "\n",
       "    .dataframe tbody tr th {\n",
       "        vertical-align: top;\n",
       "    }\n",
       "\n",
       "    .dataframe thead th {\n",
       "        text-align: right;\n",
       "    }\n",
       "</style>\n",
       "<table border=\"1\" class=\"dataframe\">\n",
       "  <thead>\n",
       "    <tr style=\"text-align: right;\">\n",
       "      <th></th>\n",
       "      <th>text</th>\n",
       "      <th>sentimiento_real</th>\n",
       "    </tr>\n",
       "  </thead>\n",
       "  <tbody>\n",
       "    <tr>\n",
       "      <th>14</th>\n",
       "      <td>endesarrollo funcionarios de  culminan operati...</td>\n",
       "      <td>0</td>\n",
       "    </tr>\n",
       "    <tr>\n",
       "      <th>18</th>\n",
       "      <td>funcionarios de  realizan operativo de verific...</td>\n",
       "      <td>0</td>\n",
       "    </tr>\n",
       "    <tr>\n",
       "      <th>25</th>\n",
       "      <td>frontera del tachira con cucuta cerca de posib...</td>\n",
       "      <td>0</td>\n",
       "    </tr>\n",
       "    <tr>\n",
       "      <th>27</th>\n",
       "      <td>frontera del tachira con cucuta cerca de posib...</td>\n",
       "      <td>0</td>\n",
       "    </tr>\n",
       "    <tr>\n",
       "      <th>28</th>\n",
       "      <td>frontera del tachira con cucuta cerca de posib...</td>\n",
       "      <td>0</td>\n",
       "    </tr>\n",
       "    <tr>\n",
       "      <th>...</th>\n",
       "      <td>...</td>\n",
       "      <td>...</td>\n",
       "    </tr>\n",
       "    <tr>\n",
       "      <th>114192</th>\n",
       "      <td>mardito banco de  ladrones a las perdonas que ...</td>\n",
       "      <td>1</td>\n",
       "    </tr>\n",
       "    <tr>\n",
       "      <th>114207</th>\n",
       "      <td>ladrones</td>\n",
       "      <td>1</td>\n",
       "    </tr>\n",
       "    <tr>\n",
       "      <th>114238</th>\n",
       "      <td>mardito banco de  ladrones a las perdonas que ...</td>\n",
       "      <td>1</td>\n",
       "    </tr>\n",
       "    <tr>\n",
       "      <th>114239</th>\n",
       "      <td>mardito banco de  ladrones a las perdonas que ...</td>\n",
       "      <td>1</td>\n",
       "    </tr>\n",
       "    <tr>\n",
       "      <th>114264</th>\n",
       "      <td>buenas  le escribe damaso arrieche virepresent...</td>\n",
       "      <td>1</td>\n",
       "    </tr>\n",
       "  </tbody>\n",
       "</table>\n",
       "<p>34643 rows × 2 columns</p>\n",
       "</div>"
      ],
      "text/plain": [
       "                                                     text  sentimiento_real\n",
       "14      endesarrollo funcionarios de  culminan operati...                 0\n",
       "18      funcionarios de  realizan operativo de verific...                 0\n",
       "25      frontera del tachira con cucuta cerca de posib...                 0\n",
       "27      frontera del tachira con cucuta cerca de posib...                 0\n",
       "28      frontera del tachira con cucuta cerca de posib...                 0\n",
       "...                                                   ...               ...\n",
       "114192  mardito banco de  ladrones a las perdonas que ...                 1\n",
       "114207                                           ladrones                 1\n",
       "114238  mardito banco de  ladrones a las perdonas que ...                 1\n",
       "114239  mardito banco de  ladrones a las perdonas que ...                 1\n",
       "114264  buenas  le escribe damaso arrieche virepresent...                 1\n",
       "\n",
       "[34643 rows x 2 columns]"
      ]
     },
     "execution_count": 16,
     "metadata": {},
     "output_type": "execute_result"
    }
   ],
   "source": [
    "df[df.duplicated([\"text\", \"sentimiento_real\"])]"
   ]
  },
  {
   "cell_type": "raw",
   "metadata": {},
   "source": [
    "There are 34643 duplicates considering both variables of the dataset"
   ]
  },
  {
   "cell_type": "markdown",
   "metadata": {},
   "source": [
    "#### Duplicates are first removed where both variables are equal"
   ]
  },
  {
   "cell_type": "code",
   "execution_count": 17,
   "metadata": {},
   "outputs": [
    {
     "data": {
      "text/html": [
       "<div>\n",
       "<style scoped>\n",
       "    .dataframe tbody tr th:only-of-type {\n",
       "        vertical-align: middle;\n",
       "    }\n",
       "\n",
       "    .dataframe tbody tr th {\n",
       "        vertical-align: top;\n",
       "    }\n",
       "\n",
       "    .dataframe thead th {\n",
       "        text-align: right;\n",
       "    }\n",
       "</style>\n",
       "<table border=\"1\" class=\"dataframe\">\n",
       "  <thead>\n",
       "    <tr style=\"text-align: right;\">\n",
       "      <th></th>\n",
       "      <th>text</th>\n",
       "      <th>sentimiento_real</th>\n",
       "    </tr>\n",
       "  </thead>\n",
       "  <tbody>\n",
       "    <tr>\n",
       "      <th>0</th>\n",
       "      <td>una combinacion perfecta entre belleza e intel...</td>\n",
       "      <td>0</td>\n",
       "    </tr>\n",
       "    <tr>\n",
       "      <th>1</th>\n",
       "      <td>yo estoy orgulloso de usted gran mujer y ejemp...</td>\n",
       "      <td>0</td>\n",
       "    </tr>\n",
       "    <tr>\n",
       "      <th>2</th>\n",
       "      <td>soycomunicadorclap  tachira  hasta el irrespon...</td>\n",
       "      <td>0</td>\n",
       "    </tr>\n",
       "    <tr>\n",
       "      <th>3</th>\n",
       "      <td>la reina del tachira protectora y proxima gobe...</td>\n",
       "      <td>0</td>\n",
       "    </tr>\n",
       "    <tr>\n",
       "      <th>4</th>\n",
       "      <td>un buen espaldarazo a la institucionalidad ser...</td>\n",
       "      <td>0</td>\n",
       "    </tr>\n",
       "    <tr>\n",
       "      <th>...</th>\n",
       "      <td>...</td>\n",
       "      <td>...</td>\n",
       "    </tr>\n",
       "    <tr>\n",
       "      <th>114259</th>\n",
       "      <td>tambien fui afectada con el robo que nos hizo ...</td>\n",
       "      <td>1</td>\n",
       "    </tr>\n",
       "    <tr>\n",
       "      <th>114260</th>\n",
       "      <td>estoy intentando hacer un reclamo desde eldia ...</td>\n",
       "      <td>1</td>\n",
       "    </tr>\n",
       "    <tr>\n",
       "      <th>114261</th>\n",
       "      <td>aja y el dia de los muertos lo agarraran de pu...</td>\n",
       "      <td>1</td>\n",
       "    </tr>\n",
       "    <tr>\n",
       "      <th>114262</th>\n",
       "      <td>tengo problemas con la lectura de huella deseo...</td>\n",
       "      <td>1</td>\n",
       "    </tr>\n",
       "    <tr>\n",
       "      <th>114263</th>\n",
       "      <td>jajajajajajaa claro los del banco de venezuela...</td>\n",
       "      <td>1</td>\n",
       "    </tr>\n",
       "  </tbody>\n",
       "</table>\n",
       "<p>79622 rows × 2 columns</p>\n",
       "</div>"
      ],
      "text/plain": [
       "                                                     text  sentimiento_real\n",
       "0       una combinacion perfecta entre belleza e intel...                 0\n",
       "1       yo estoy orgulloso de usted gran mujer y ejemp...                 0\n",
       "2       soycomunicadorclap  tachira  hasta el irrespon...                 0\n",
       "3       la reina del tachira protectora y proxima gobe...                 0\n",
       "4       un buen espaldarazo a la institucionalidad ser...                 0\n",
       "...                                                   ...               ...\n",
       "114259  tambien fui afectada con el robo que nos hizo ...                 1\n",
       "114260  estoy intentando hacer un reclamo desde eldia ...                 1\n",
       "114261  aja y el dia de los muertos lo agarraran de pu...                 1\n",
       "114262  tengo problemas con la lectura de huella deseo...                 1\n",
       "114263  jajajajajajaa claro los del banco de venezuela...                 1\n",
       "\n",
       "[79622 rows x 2 columns]"
      ]
     },
     "execution_count": 17,
     "metadata": {},
     "output_type": "execute_result"
    }
   ],
   "source": [
    "df = df[~df.duplicated([\"text\", \"sentimiento_real\"])]\n",
    "df"
   ]
  },
  {
   "cell_type": "code",
   "execution_count": 18,
   "metadata": {},
   "outputs": [
    {
     "data": {
      "text/html": [
       "<div>\n",
       "<style scoped>\n",
       "    .dataframe tbody tr th:only-of-type {\n",
       "        vertical-align: middle;\n",
       "    }\n",
       "\n",
       "    .dataframe tbody tr th {\n",
       "        vertical-align: top;\n",
       "    }\n",
       "\n",
       "    .dataframe thead th {\n",
       "        text-align: right;\n",
       "    }\n",
       "</style>\n",
       "<table border=\"1\" class=\"dataframe\">\n",
       "  <thead>\n",
       "    <tr style=\"text-align: right;\">\n",
       "      <th></th>\n",
       "      <th>text</th>\n",
       "      <th>sentimiento_real</th>\n",
       "    </tr>\n",
       "  </thead>\n",
       "  <tbody>\n",
       "    <tr>\n",
       "      <th>6</th>\n",
       "      <td>el cambio y gobernadora de tachira atienden co...</td>\n",
       "      <td>0</td>\n",
       "    </tr>\n",
       "    <tr>\n",
       "      <th>68</th>\n",
       "      <td>ddhh rolandcarreno</td>\n",
       "      <td>0</td>\n",
       "    </tr>\n",
       "    <tr>\n",
       "      <th>127</th>\n",
       "      <td></td>\n",
       "      <td>0</td>\n",
       "    </tr>\n",
       "    <tr>\n",
       "      <th>153</th>\n",
       "      <td>excelente</td>\n",
       "      <td>0</td>\n",
       "    </tr>\n",
       "    <tr>\n",
       "      <th>168</th>\n",
       "      <td>tachira libre de drogas  efectivos de servicio...</td>\n",
       "      <td>0</td>\n",
       "    </tr>\n",
       "    <tr>\n",
       "      <th>...</th>\n",
       "      <td>...</td>\n",
       "      <td>...</td>\n",
       "    </tr>\n",
       "    <tr>\n",
       "      <th>108184</th>\n",
       "      <td>y donde pueden comprar los comerciantes dolare...</td>\n",
       "      <td>1</td>\n",
       "    </tr>\n",
       "    <tr>\n",
       "      <th>108345</th>\n",
       "      <td>aqui en guacara y san joaquin carabobo no se r...</td>\n",
       "      <td>1</td>\n",
       "    </tr>\n",
       "    <tr>\n",
       "      <th>108649</th>\n",
       "      <td>en san diego  eso carabobo  muchos comerciante...</td>\n",
       "      <td>1</td>\n",
       "    </tr>\n",
       "    <tr>\n",
       "      <th>109002</th>\n",
       "      <td>que descanse en paz</td>\n",
       "      <td>1</td>\n",
       "    </tr>\n",
       "    <tr>\n",
       "      <th>114045</th>\n",
       "      <td>paz a su alma</td>\n",
       "      <td>1</td>\n",
       "    </tr>\n",
       "  </tbody>\n",
       "</table>\n",
       "<p>934 rows × 2 columns</p>\n",
       "</div>"
      ],
      "text/plain": [
       "                                                     text  sentimiento_real\n",
       "6       el cambio y gobernadora de tachira atienden co...                 0\n",
       "68                                     ddhh rolandcarreno                 0\n",
       "127                                                                       0\n",
       "153                                             excelente                 0\n",
       "168     tachira libre de drogas  efectivos de servicio...                 0\n",
       "...                                                   ...               ...\n",
       "108184  y donde pueden comprar los comerciantes dolare...                 1\n",
       "108345  aqui en guacara y san joaquin carabobo no se r...                 1\n",
       "108649  en san diego  eso carabobo  muchos comerciante...                 1\n",
       "109002                                que descanse en paz                 1\n",
       "114045                                      paz a su alma                 1\n",
       "\n",
       "[934 rows x 2 columns]"
      ]
     },
     "execution_count": 18,
     "metadata": {},
     "output_type": "execute_result"
    }
   ],
   "source": [
    "df[df.duplicated([\"text\"],keep=False)]"
   ]
  },
  {
   "cell_type": "raw",
   "metadata": {},
   "source": [
    "There are 934 observations that are repeated but have a different real_sentiment value, therefore they are all eliminated from the data set, since they can confuse the model by not effectively knowing if the real_sentiment is 0 (positive) or 1 (negative)."
   ]
  },
  {
   "cell_type": "markdown",
   "metadata": {},
   "source": [
    "#### We remove the duplicates considering only the text variable"
   ]
  },
  {
   "cell_type": "code",
   "execution_count": 19,
   "metadata": {},
   "outputs": [
    {
     "data": {
      "text/html": [
       "<div>\n",
       "<style scoped>\n",
       "    .dataframe tbody tr th:only-of-type {\n",
       "        vertical-align: middle;\n",
       "    }\n",
       "\n",
       "    .dataframe tbody tr th {\n",
       "        vertical-align: top;\n",
       "    }\n",
       "\n",
       "    .dataframe thead th {\n",
       "        text-align: right;\n",
       "    }\n",
       "</style>\n",
       "<table border=\"1\" class=\"dataframe\">\n",
       "  <thead>\n",
       "    <tr style=\"text-align: right;\">\n",
       "      <th></th>\n",
       "      <th>text</th>\n",
       "      <th>sentimiento_real</th>\n",
       "    </tr>\n",
       "  </thead>\n",
       "  <tbody>\n",
       "    <tr>\n",
       "      <th>0</th>\n",
       "      <td>una combinacion perfecta entre belleza e intel...</td>\n",
       "      <td>0</td>\n",
       "    </tr>\n",
       "    <tr>\n",
       "      <th>1</th>\n",
       "      <td>yo estoy orgulloso de usted gran mujer y ejemp...</td>\n",
       "      <td>0</td>\n",
       "    </tr>\n",
       "    <tr>\n",
       "      <th>2</th>\n",
       "      <td>soycomunicadorclap  tachira  hasta el irrespon...</td>\n",
       "      <td>0</td>\n",
       "    </tr>\n",
       "    <tr>\n",
       "      <th>3</th>\n",
       "      <td>la reina del tachira protectora y proxima gobe...</td>\n",
       "      <td>0</td>\n",
       "    </tr>\n",
       "    <tr>\n",
       "      <th>4</th>\n",
       "      <td>un buen espaldarazo a la institucionalidad ser...</td>\n",
       "      <td>0</td>\n",
       "    </tr>\n",
       "    <tr>\n",
       "      <th>...</th>\n",
       "      <td>...</td>\n",
       "      <td>...</td>\n",
       "    </tr>\n",
       "    <tr>\n",
       "      <th>114259</th>\n",
       "      <td>tambien fui afectada con el robo que nos hizo ...</td>\n",
       "      <td>1</td>\n",
       "    </tr>\n",
       "    <tr>\n",
       "      <th>114260</th>\n",
       "      <td>estoy intentando hacer un reclamo desde eldia ...</td>\n",
       "      <td>1</td>\n",
       "    </tr>\n",
       "    <tr>\n",
       "      <th>114261</th>\n",
       "      <td>aja y el dia de los muertos lo agarraran de pu...</td>\n",
       "      <td>1</td>\n",
       "    </tr>\n",
       "    <tr>\n",
       "      <th>114262</th>\n",
       "      <td>tengo problemas con la lectura de huella deseo...</td>\n",
       "      <td>1</td>\n",
       "    </tr>\n",
       "    <tr>\n",
       "      <th>114263</th>\n",
       "      <td>jajajajajajaa claro los del banco de venezuela...</td>\n",
       "      <td>1</td>\n",
       "    </tr>\n",
       "  </tbody>\n",
       "</table>\n",
       "<p>78688 rows × 2 columns</p>\n",
       "</div>"
      ],
      "text/plain": [
       "                                                     text  sentimiento_real\n",
       "0       una combinacion perfecta entre belleza e intel...                 0\n",
       "1       yo estoy orgulloso de usted gran mujer y ejemp...                 0\n",
       "2       soycomunicadorclap  tachira  hasta el irrespon...                 0\n",
       "3       la reina del tachira protectora y proxima gobe...                 0\n",
       "4       un buen espaldarazo a la institucionalidad ser...                 0\n",
       "...                                                   ...               ...\n",
       "114259  tambien fui afectada con el robo que nos hizo ...                 1\n",
       "114260  estoy intentando hacer un reclamo desde eldia ...                 1\n",
       "114261  aja y el dia de los muertos lo agarraran de pu...                 1\n",
       "114262  tengo problemas con la lectura de huella deseo...                 1\n",
       "114263  jajajajajajaa claro los del banco de venezuela...                 1\n",
       "\n",
       "[78688 rows x 2 columns]"
      ]
     },
     "execution_count": 19,
     "metadata": {},
     "output_type": "execute_result"
    }
   ],
   "source": [
    "# Removemos los duplicados considerando solo la variable text\n",
    "df = df[~df.duplicated([\"text\"], keep=False)]\n",
    "df"
   ]
  },
  {
   "cell_type": "markdown",
   "metadata": {},
   "source": [
    "## Remove stopwords"
   ]
  },
  {
   "cell_type": "code",
   "execution_count": 20,
   "metadata": {},
   "outputs": [
    {
     "name": "stdout",
     "output_type": "stream",
     "text": [
      "['de', 'la', 'que', 'el', 'en', 'y', 'a', 'los', 'del', 'se', 'las', 'por', 'un', 'para', 'con', 'no', 'una', 'su', 'al', 'lo', 'como', 'más', 'pero', 'sus', 'le', 'ya', 'o', 'este', 'sí', 'porque', 'esta', 'entre', 'cuando', 'muy', 'sin', 'sobre', 'también', 'me', 'hasta', 'hay', 'donde', 'quien', 'desde', 'todo', 'nos', 'durante', 'todos', 'uno', 'les', 'ni', 'contra', 'otros', 'ese', 'eso', 'ante', 'ellos', 'e', 'esto', 'mí', 'antes', 'algunos', 'qué', 'unos', 'yo', 'otro', 'otras', 'otra', 'él', 'tanto', 'esa', 'estos', 'mucho', 'quienes', 'nada', 'muchos', 'cual', 'poco', 'ella', 'estar', 'estas', 'algunas', 'algo', 'nosotros', 'mi', 'mis', 'tú', 'te', 'ti', 'tu', 'tus', 'ellas', 'nosotras', 'vosotros', 'vosotras', 'os', 'mío', 'mía', 'míos', 'mías', 'tuyo', 'tuya', 'tuyos', 'tuyas', 'suyo', 'suya', 'suyos', 'suyas', 'nuestro', 'nuestra', 'nuestros', 'nuestras', 'vuestro', 'vuestra', 'vuestros', 'vuestras', 'esos', 'esas', 'estoy', 'estás', 'está', 'estamos', 'estáis', 'están', 'esté', 'estés', 'estemos', 'estéis', 'estén', 'estaré', 'estarás', 'estará', 'estaremos', 'estaréis', 'estarán', 'estaría', 'estarías', 'estaríamos', 'estaríais', 'estarían', 'estaba', 'estabas', 'estábamos', 'estabais', 'estaban', 'estuve', 'estuviste', 'estuvo', 'estuvimos', 'estuvisteis', 'estuvieron', 'estuviera', 'estuvieras', 'estuviéramos', 'estuvierais', 'estuvieran', 'estuviese', 'estuvieses', 'estuviésemos', 'estuvieseis', 'estuviesen', 'estando', 'estado', 'estada', 'estados', 'estadas', 'estad', 'he', 'has', 'ha', 'hemos', 'habéis', 'han', 'haya', 'hayas', 'hayamos', 'hayáis', 'hayan', 'habré', 'habrás', 'habrá', 'habremos', 'habréis', 'habrán', 'habría', 'habrías', 'habríamos', 'habríais', 'habrían', 'había', 'habías', 'habíamos', 'habíais', 'habían', 'hube', 'hubiste', 'hubo', 'hubimos', 'hubisteis', 'hubieron', 'hubiera', 'hubieras', 'hubiéramos', 'hubierais', 'hubieran', 'hubiese', 'hubieses', 'hubiésemos', 'hubieseis', 'hubiesen', 'habiendo', 'habido', 'habida', 'habidos', 'habidas', 'soy', 'eres', 'es', 'somos', 'sois', 'son', 'sea', 'seas', 'seamos', 'seáis', 'sean', 'seré', 'serás', 'será', 'seremos', 'seréis', 'serán', 'sería', 'serías', 'seríamos', 'seríais', 'serían', 'era', 'eras', 'éramos', 'erais', 'eran', 'fui', 'fuiste', 'fue', 'fuimos', 'fuisteis', 'fueron', 'fuera', 'fueras', 'fuéramos', 'fuerais', 'fueran', 'fuese', 'fueses', 'fuésemos', 'fueseis', 'fuesen', 'sintiendo', 'sentido', 'sentida', 'sentidos', 'sentidas', 'siente', 'sentid', 'tengo', 'tienes', 'tiene', 'tenemos', 'tenéis', 'tienen', 'tenga', 'tengas', 'tengamos', 'tengáis', 'tengan', 'tendré', 'tendrás', 'tendrá', 'tendremos', 'tendréis', 'tendrán', 'tendría', 'tendrías', 'tendríamos', 'tendríais', 'tendrían', 'tenía', 'tenías', 'teníamos', 'teníais', 'tenían', 'tuve', 'tuviste', 'tuvo', 'tuvimos', 'tuvisteis', 'tuvieron', 'tuviera', 'tuvieras', 'tuviéramos', 'tuvierais', 'tuvieran', 'tuviese', 'tuvieses', 'tuviésemos', 'tuvieseis', 'tuviesen', 'teniendo', 'tenido', 'tenida', 'tenidos', 'tenidas', 'tened']\n"
     ]
    }
   ],
   "source": [
    "print(stopwords.words('spanish'))"
   ]
  },
  {
   "cell_type": "markdown",
   "metadata": {},
   "source": [
    "#### Remove accents from stopwords"
   ]
  },
  {
   "cell_type": "code",
   "execution_count": 21,
   "metadata": {},
   "outputs": [
    {
     "name": "stdout",
     "output_type": "stream",
     "text": [
      "['de', 'la', 'que', 'el', 'en', 'y', 'a', 'los', 'del', 'se', 'las', 'por', 'un', 'para', 'con', 'no', 'una', 'su', 'al', 'lo', 'como', 'mas', 'pero', 'sus', 'le', 'ya', 'o', 'este', 'si', 'porque', 'esta', 'entre', 'cuando', 'muy', 'sin', 'sobre', 'tambien', 'me', 'hasta', 'hay', 'donde', 'quien', 'desde', 'todo', 'nos', 'durante', 'todos', 'uno', 'les', 'ni', 'contra', 'otros', 'ese', 'eso', 'ante', 'ellos', 'e', 'esto', 'mi', 'antes', 'algunos', 'que', 'unos', 'yo', 'otro', 'otras', 'otra', 'el', 'tanto', 'esa', 'estos', 'mucho', 'quienes', 'nada', 'muchos', 'cual', 'poco', 'ella', 'estar', 'estas', 'algunas', 'algo', 'nosotros', 'mi', 'mis', 'tu', 'te', 'ti', 'tu', 'tus', 'ellas', 'nosotras', 'vosotros', 'vosotras', 'os', 'mio', 'mia', 'mios', 'mias', 'tuyo', 'tuya', 'tuyos', 'tuyas', 'suyo', 'suya', 'suyos', 'suyas', 'nuestro', 'nuestra', 'nuestros', 'nuestras', 'vuestro', 'vuestra', 'vuestros', 'vuestras', 'esos', 'esas', 'estoy', 'estas', 'esta', 'estamos', 'estais', 'estan', 'este', 'estes', 'estemos', 'esteis', 'esten', 'estare', 'estaras', 'estara', 'estaremos', 'estareis', 'estaran', 'estaria', 'estarias', 'estariamos', 'estariais', 'estarian', 'estaba', 'estabas', 'estabamos', 'estabais', 'estaban', 'estuve', 'estuviste', 'estuvo', 'estuvimos', 'estuvisteis', 'estuvieron', 'estuviera', 'estuvieras', 'estuvieramos', 'estuvierais', 'estuvieran', 'estuviese', 'estuvieses', 'estuviesemos', 'estuvieseis', 'estuviesen', 'estando', 'estado', 'estada', 'estados', 'estadas', 'estad', 'he', 'has', 'ha', 'hemos', 'habeis', 'han', 'haya', 'hayas', 'hayamos', 'hayais', 'hayan', 'habre', 'habras', 'habra', 'habremos', 'habreis', 'habran', 'habria', 'habrias', 'habriamos', 'habriais', 'habrian', 'habia', 'habias', 'habiamos', 'habiais', 'habian', 'hube', 'hubiste', 'hubo', 'hubimos', 'hubisteis', 'hubieron', 'hubiera', 'hubieras', 'hubieramos', 'hubierais', 'hubieran', 'hubiese', 'hubieses', 'hubiesemos', 'hubieseis', 'hubiesen', 'habiendo', 'habido', 'habida', 'habidos', 'habidas', 'soy', 'eres', 'es', 'somos', 'sois', 'son', 'sea', 'seas', 'seamos', 'seais', 'sean', 'sere', 'seras', 'sera', 'seremos', 'sereis', 'seran', 'seria', 'serias', 'seriamos', 'seriais', 'serian', 'era', 'eras', 'eramos', 'erais', 'eran', 'fui', 'fuiste', 'fue', 'fuimos', 'fuisteis', 'fueron', 'fuera', 'fueras', 'fueramos', 'fuerais', 'fueran', 'fuese', 'fueses', 'fuesemos', 'fueseis', 'fuesen', 'sintiendo', 'sentido', 'sentida', 'sentidos', 'sentidas', 'siente', 'sentid', 'tengo', 'tienes', 'tiene', 'tenemos', 'teneis', 'tienen', 'tenga', 'tengas', 'tengamos', 'tengais', 'tengan', 'tendre', 'tendras', 'tendra', 'tendremos', 'tendreis', 'tendran', 'tendria', 'tendrias', 'tendriamos', 'tendriais', 'tendrian', 'tenia', 'tenias', 'teniamos', 'teniais', 'tenian', 'tuve', 'tuviste', 'tuvo', 'tuvimos', 'tuvisteis', 'tuvieron', 'tuviera', 'tuvieras', 'tuvieramos', 'tuvierais', 'tuvieran', 'tuviese', 'tuvieses', 'tuviesemos', 'tuvieseis', 'tuviesen', 'teniendo', 'tenido', 'tenida', 'tenidos', 'tenidas', 'tened']\n"
     ]
    }
   ],
   "source": [
    "stop_words = ' '.join(stopwords.words('spanish')).translate(trans).split(' ')\n",
    "print(stop_words)"
   ]
  },
  {
   "cell_type": "markdown",
   "metadata": {},
   "source": [
    "#### Save file with StopWords"
   ]
  },
  {
   "cell_type": "code",
   "execution_count": 22,
   "metadata": {},
   "outputs": [],
   "source": [
    "with open(\"stopwords.pickle\", \"wb\") as f:\n",
    "    pickle.dump(stop_words, f)"
   ]
  },
  {
   "cell_type": "code",
   "execution_count": 23,
   "metadata": {},
   "outputs": [],
   "source": [
    "def tokenizar_stopwords(text, *stop_words):\n",
    "    \"\"\"Remove words considered stopwords in the text\n",
    "    \n",
    "    args: \n",
    "    ----------\n",
    "        text (str): sentence to remove the stopwords\n",
    "        stopwords (list): stopword list\n",
    "    \n",
    "    return:\n",
    "    ----------\n",
    "        (str): sentence without the stopwords\n",
    "    \"\"\"\n",
    "    \n",
    "    tokens = text.split()\n",
    "    output = [word for word in tokens if word not in stop_words]\n",
    "    \n",
    "    return ' '.join(output)"
   ]
  },
  {
   "cell_type": "markdown",
   "metadata": {},
   "source": [
    "#### The function is applied to the text variable of the dataframe"
   ]
  },
  {
   "cell_type": "code",
   "execution_count": 24,
   "metadata": {},
   "outputs": [
    {
     "name": "stderr",
     "output_type": "stream",
     "text": [
      "C:\\Users\\ALEJANDRO\\AppData\\Local\\Temp\\ipykernel_11444\\716834467.py:1: SettingWithCopyWarning: \n",
      "A value is trying to be set on a copy of a slice from a DataFrame.\n",
      "Try using .loc[row_indexer,col_indexer] = value instead\n",
      "\n",
      "See the caveats in the documentation: https://pandas.pydata.org/pandas-docs/stable/user_guide/indexing.html#returning-a-view-versus-a-copy\n",
      "  df[\"text\"] = df[\"text\"].apply(tokenizar_stopwords, args=stop_words)\n"
     ]
    },
    {
     "data": {
      "text/html": [
       "<div>\n",
       "<style scoped>\n",
       "    .dataframe tbody tr th:only-of-type {\n",
       "        vertical-align: middle;\n",
       "    }\n",
       "\n",
       "    .dataframe tbody tr th {\n",
       "        vertical-align: top;\n",
       "    }\n",
       "\n",
       "    .dataframe thead th {\n",
       "        text-align: right;\n",
       "    }\n",
       "</style>\n",
       "<table border=\"1\" class=\"dataframe\">\n",
       "  <thead>\n",
       "    <tr style=\"text-align: right;\">\n",
       "      <th></th>\n",
       "      <th>text</th>\n",
       "      <th>sentimiento_real</th>\n",
       "    </tr>\n",
       "  </thead>\n",
       "  <tbody>\n",
       "    <tr>\n",
       "      <th>0</th>\n",
       "      <td>combinacion perfecta belleza inteligencia gobe...</td>\n",
       "      <td>0</td>\n",
       "    </tr>\n",
       "    <tr>\n",
       "      <th>1</th>\n",
       "      <td>orgulloso usted gran mujer ejemplo gobernadora...</td>\n",
       "      <td>0</td>\n",
       "    </tr>\n",
       "    <tr>\n",
       "      <th>2</th>\n",
       "      <td>soycomunicadorclap tachira irresponsable san c...</td>\n",
       "      <td>0</td>\n",
       "    </tr>\n",
       "    <tr>\n",
       "      <th>3</th>\n",
       "      <td>reina tachira protectora proxima gobernadora</td>\n",
       "      <td>0</td>\n",
       "    </tr>\n",
       "    <tr>\n",
       "      <th>4</th>\n",
       "      <td>buen espaldarazo institucionalidad gobierno co...</td>\n",
       "      <td>0</td>\n",
       "    </tr>\n",
       "    <tr>\n",
       "      <th>5</th>\n",
       "      <td>palante gobernadora lider tachira ️️️</td>\n",
       "      <td>0</td>\n",
       "    </tr>\n",
       "    <tr>\n",
       "      <th>7</th>\n",
       "      <td>seniat_oficial almomento funcionarios realizan...</td>\n",
       "      <td>0</td>\n",
       "    </tr>\n",
       "    <tr>\n",
       "      <th>8</th>\n",
       "      <td>respecto reactivacion plataformas aduaneras pa...</td>\n",
       "      <td>0</td>\n",
       "    </tr>\n",
       "    <tr>\n",
       "      <th>9</th>\n",
       "      <td>endesarrollo funcionarios culminan operativo s...</td>\n",
       "      <td>0</td>\n",
       "    </tr>\n",
       "    <tr>\n",
       "      <th>10</th>\n",
       "      <td>seniat_oficial endesarrollo funcionarios culmi...</td>\n",
       "      <td>0</td>\n",
       "    </tr>\n",
       "  </tbody>\n",
       "</table>\n",
       "</div>"
      ],
      "text/plain": [
       "                                                 text  sentimiento_real\n",
       "0   combinacion perfecta belleza inteligencia gobe...                 0\n",
       "1   orgulloso usted gran mujer ejemplo gobernadora...                 0\n",
       "2   soycomunicadorclap tachira irresponsable san c...                 0\n",
       "3        reina tachira protectora proxima gobernadora                 0\n",
       "4   buen espaldarazo institucionalidad gobierno co...                 0\n",
       "5               palante gobernadora lider tachira ️️️                 0\n",
       "7   seniat_oficial almomento funcionarios realizan...                 0\n",
       "8   respecto reactivacion plataformas aduaneras pa...                 0\n",
       "9   endesarrollo funcionarios culminan operativo s...                 0\n",
       "10  seniat_oficial endesarrollo funcionarios culmi...                 0"
      ]
     },
     "execution_count": 24,
     "metadata": {},
     "output_type": "execute_result"
    }
   ],
   "source": [
    "df[\"text\"] = df[\"text\"].apply(tokenizar_stopwords, args=stop_words)\n",
    "df.head(10)"
   ]
  },
  {
   "cell_type": "markdown",
   "metadata": {},
   "source": [
    "## Remove observations with empty cells"
   ]
  },
  {
   "cell_type": "code",
   "execution_count": 25,
   "metadata": {},
   "outputs": [
    {
     "data": {
      "text/html": [
       "<div>\n",
       "<style scoped>\n",
       "    .dataframe tbody tr th:only-of-type {\n",
       "        vertical-align: middle;\n",
       "    }\n",
       "\n",
       "    .dataframe tbody tr th {\n",
       "        vertical-align: top;\n",
       "    }\n",
       "\n",
       "    .dataframe thead th {\n",
       "        text-align: right;\n",
       "    }\n",
       "</style>\n",
       "<table border=\"1\" class=\"dataframe\">\n",
       "  <thead>\n",
       "    <tr style=\"text-align: right;\">\n",
       "      <th></th>\n",
       "      <th>text</th>\n",
       "      <th>sentimiento_real</th>\n",
       "    </tr>\n",
       "  </thead>\n",
       "  <tbody>\n",
       "    <tr>\n",
       "      <th>10552</th>\n",
       "      <td></td>\n",
       "      <td>0</td>\n",
       "    </tr>\n",
       "    <tr>\n",
       "      <th>24069</th>\n",
       "      <td></td>\n",
       "      <td>0</td>\n",
       "    </tr>\n",
       "    <tr>\n",
       "      <th>29029</th>\n",
       "      <td></td>\n",
       "      <td>0</td>\n",
       "    </tr>\n",
       "    <tr>\n",
       "      <th>29168</th>\n",
       "      <td></td>\n",
       "      <td>0</td>\n",
       "    </tr>\n",
       "    <tr>\n",
       "      <th>31717</th>\n",
       "      <td></td>\n",
       "      <td>0</td>\n",
       "    </tr>\n",
       "    <tr>\n",
       "      <th>33146</th>\n",
       "      <td></td>\n",
       "      <td>0</td>\n",
       "    </tr>\n",
       "    <tr>\n",
       "      <th>33211</th>\n",
       "      <td></td>\n",
       "      <td>0</td>\n",
       "    </tr>\n",
       "    <tr>\n",
       "      <th>42424</th>\n",
       "      <td></td>\n",
       "      <td>0</td>\n",
       "    </tr>\n",
       "    <tr>\n",
       "      <th>54755</th>\n",
       "      <td></td>\n",
       "      <td>1</td>\n",
       "    </tr>\n",
       "    <tr>\n",
       "      <th>54876</th>\n",
       "      <td></td>\n",
       "      <td>1</td>\n",
       "    </tr>\n",
       "    <tr>\n",
       "      <th>54983</th>\n",
       "      <td></td>\n",
       "      <td>1</td>\n",
       "    </tr>\n",
       "    <tr>\n",
       "      <th>55473</th>\n",
       "      <td></td>\n",
       "      <td>1</td>\n",
       "    </tr>\n",
       "    <tr>\n",
       "      <th>65258</th>\n",
       "      <td></td>\n",
       "      <td>1</td>\n",
       "    </tr>\n",
       "    <tr>\n",
       "      <th>92287</th>\n",
       "      <td></td>\n",
       "      <td>1</td>\n",
       "    </tr>\n",
       "    <tr>\n",
       "      <th>111352</th>\n",
       "      <td></td>\n",
       "      <td>1</td>\n",
       "    </tr>\n",
       "    <tr>\n",
       "      <th>112415</th>\n",
       "      <td></td>\n",
       "      <td>1</td>\n",
       "    </tr>\n",
       "  </tbody>\n",
       "</table>\n",
       "</div>"
      ],
      "text/plain": [
       "       text  sentimiento_real\n",
       "10552                       0\n",
       "24069                       0\n",
       "29029                       0\n",
       "29168                       0\n",
       "31717                       0\n",
       "33146                       0\n",
       "33211                       0\n",
       "42424                       0\n",
       "54755                       1\n",
       "54876                       1\n",
       "54983                       1\n",
       "55473                       1\n",
       "65258                       1\n",
       "92287                       1\n",
       "111352                      1\n",
       "112415                      1"
      ]
     },
     "execution_count": 25,
     "metadata": {},
     "output_type": "execute_result"
    }
   ],
   "source": [
    "df[df[\"text\"] == \"\"]"
   ]
  },
  {
   "cell_type": "code",
   "execution_count": 26,
   "metadata": {},
   "outputs": [
    {
     "name": "stderr",
     "output_type": "stream",
     "text": [
      "C:\\Users\\ALEJANDRO\\AppData\\Local\\Temp\\ipykernel_11444\\4071980189.py:1: SettingWithCopyWarning: \n",
      "A value is trying to be set on a copy of a slice from a DataFrame\n",
      "\n",
      "See the caveats in the documentation: https://pandas.pydata.org/pandas-docs/stable/user_guide/indexing.html#returning-a-view-versus-a-copy\n",
      "  df['text'].replace('', np.nan, inplace=True)\n"
     ]
    },
    {
     "data": {
      "text/html": [
       "<div>\n",
       "<style scoped>\n",
       "    .dataframe tbody tr th:only-of-type {\n",
       "        vertical-align: middle;\n",
       "    }\n",
       "\n",
       "    .dataframe tbody tr th {\n",
       "        vertical-align: top;\n",
       "    }\n",
       "\n",
       "    .dataframe thead th {\n",
       "        text-align: right;\n",
       "    }\n",
       "</style>\n",
       "<table border=\"1\" class=\"dataframe\">\n",
       "  <thead>\n",
       "    <tr style=\"text-align: right;\">\n",
       "      <th></th>\n",
       "      <th>text</th>\n",
       "      <th>sentimiento_real</th>\n",
       "    </tr>\n",
       "  </thead>\n",
       "  <tbody>\n",
       "  </tbody>\n",
       "</table>\n",
       "</div>"
      ],
      "text/plain": [
       "Empty DataFrame\n",
       "Columns: [text, sentimiento_real]\n",
       "Index: []"
      ]
     },
     "execution_count": 26,
     "metadata": {},
     "output_type": "execute_result"
    }
   ],
   "source": [
    "df['text'].replace('', np.nan, inplace=True)\n",
    "df = df.dropna(subset=['text'])\n",
    "df[df[\"text\"] == \"\"]"
   ]
  },
  {
   "cell_type": "markdown",
   "metadata": {},
   "source": [
    "# Target variable after treatment"
   ]
  },
  {
   "cell_type": "code",
   "execution_count": 27,
   "metadata": {},
   "outputs": [
    {
     "data": {
      "text/plain": [
       "1    49965\n",
       "0    28707\n",
       "Name: sentimiento_real, dtype: int64"
      ]
     },
     "execution_count": 27,
     "metadata": {},
     "output_type": "execute_result"
    }
   ],
   "source": [
    "df['sentimiento_real'].value_counts()"
   ]
  },
  {
   "cell_type": "code",
   "execution_count": 29,
   "metadata": {},
   "outputs": [
    {
     "data": {
      "image/png": "[encoded data removed]",
      "text/plain": [
       "<Figure size 720x360 with 1 Axes>"
      ]
     },
     "metadata": {
      "needs_background": "light"
     },
     "output_type": "display_data"
    }
   ],
   "source": [
    "plt.figure(figsize=(10,5))\n",
    "sns.countplot(x=\"sentimiento_real\", data=df)\n",
    "plt.title(\"Message distribution\")\n",
    "plt.ylabel(\"Number of messages\")\n",
    "plt.show()"
   ]
  },
  {
   "cell_type": "code",
   "execution_count": 37,
   "metadata": {},
   "outputs": [],
   "source": [
    "required_sample = 28707"
   ]
  },
  {
   "cell_type": "raw",
   "metadata": {},
   "source": [
    "In the data already processed, approximately 63.5% of the comments are negative and the remaining 36.5% are positive. There is a big difference between the number of negative and positive observations. When training the model this could create a bias towards negative comments so we will be left with the same amount of negative comments as positive ones."
   ]
  },
  {
   "cell_type": "code",
   "execution_count": 38,
   "metadata": {},
   "outputs": [],
   "source": [
    "df_pos = df[df['sentimiento_real'] == 0].sample(n=required_sample, random_state=27)"
   ]
  },
  {
   "cell_type": "code",
   "execution_count": 39,
   "metadata": {},
   "outputs": [
    {
     "data": {
      "text/plain": [
       "0    28707\n",
       "Name: sentimiento_real, dtype: int64"
      ]
     },
     "execution_count": 39,
     "metadata": {},
     "output_type": "execute_result"
    }
   ],
   "source": [
    "df_pos['sentimiento_real'].value_counts()"
   ]
  },
  {
   "cell_type": "code",
   "execution_count": 40,
   "metadata": {},
   "outputs": [],
   "source": [
    "df_neg = df[df['sentimiento_real'] == 1].sample(n=required_sample,  random_state=27)"
   ]
  },
  {
   "cell_type": "code",
   "execution_count": 41,
   "metadata": {},
   "outputs": [
    {
     "data": {
      "text/plain": [
       "1    28707\n",
       "Name: sentimiento_real, dtype: int64"
      ]
     },
     "execution_count": 41,
     "metadata": {},
     "output_type": "execute_result"
    }
   ],
   "source": [
    "df_neg['sentimiento_real'].value_counts()"
   ]
  },
  {
   "cell_type": "code",
   "execution_count": 42,
   "metadata": {},
   "outputs": [],
   "source": [
    "df = pd.concat([df_pos, df_neg]).sample(frac=1, random_state=27).reset_index(drop=True)"
   ]
  },
  {
   "cell_type": "code",
   "execution_count": 43,
   "metadata": {},
   "outputs": [
    {
     "data": {
      "text/plain": [
       "0    28707\n",
       "1    28707\n",
       "Name: sentimiento_real, dtype: int64"
      ]
     },
     "execution_count": 43,
     "metadata": {},
     "output_type": "execute_result"
    }
   ],
   "source": [
    "df['sentimiento_real'].value_counts()"
   ]
  },
  {
   "cell_type": "code",
   "execution_count": 44,
   "metadata": {},
   "outputs": [
    {
     "data": {
      "image/png": "[encoded data removed]",
      "text/plain": [
       "<Figure size 720x360 with 1 Axes>"
      ]
     },
     "metadata": {
      "needs_background": "light"
     },
     "output_type": "display_data"
    }
   ],
   "source": [
    "plt.figure(figsize=(10,5))\n",
    "sns.countplot(x=\"sentimiento_real\", data=df)\n",
    "plt.title(\"Message distribution\")\n",
    "plt.ylabel(\"Number of messages\")\n",
    "plt.show()"
   ]
  },
  {
   "cell_type": "markdown",
   "metadata": {},
   "source": [
    "# Data processing II"
   ]
  },
  {
   "cell_type": "markdown",
   "metadata": {},
   "source": [
    "## Separate the dataset into dependent and independent variables"
   ]
  },
  {
   "cell_type": "code",
   "execution_count": 46,
   "metadata": {},
   "outputs": [],
   "source": [
    "X = df['text'].values\n",
    "y = df['sentimiento_real'].values"
   ]
  },
  {
   "cell_type": "markdown",
   "metadata": {},
   "source": [
    "## Separate the dataset into training and validation"
   ]
  },
  {
   "cell_type": "code",
   "execution_count": 47,
   "metadata": {},
   "outputs": [],
   "source": [
    "X_train, X_test, y_train, y_test = train_test_split(X, y, test_size=0.3, random_state=27, stratify=y)"
   ]
  },
  {
   "cell_type": "markdown",
   "metadata": {},
   "source": [
    "## Build vocabulary"
   ]
  },
  {
   "cell_type": "code",
   "execution_count": 48,
   "metadata": {},
   "outputs": [],
   "source": [
    "# Construction of the dictionary from the training text\n",
    "tokenizer = Tokenizer()\n",
    "tokenizer.fit_on_texts(X_train)"
   ]
  },
  {
   "cell_type": "code",
   "execution_count": 49,
   "metadata": {},
   "outputs": [
    {
     "name": "stdout",
     "output_type": "stream",
     "text": [
      "The vocabulary size is: 58326\n"
     ]
    }
   ],
   "source": [
    "print(\"The vocabulary size is: {}\".format(len(tokenizer.word_index)))"
   ]
  },
  {
   "cell_type": "code",
   "execution_count": 75,
   "metadata": {},
   "outputs": [],
   "source": [
    "# save file with vocabulary\n",
    "tokenizer_json = tokenizer.to_json()\n",
    "with open('tokenizer.json', 'w', encoding='utf-8') as f:\n",
    "    f.write(json.dumps(tokenizer_json, ensure_ascii=False))"
   ]
  },
  {
   "cell_type": "markdown",
   "metadata": {},
   "source": [
    "## Treatment of training data"
   ]
  },
  {
   "cell_type": "markdown",
   "metadata": {},
   "source": [
    "### Encode the training sequences"
   ]
  },
  {
   "cell_type": "code",
   "execution_count": 50,
   "metadata": {},
   "outputs": [
    {
     "name": "stdout",
     "output_type": "stream",
     "text": [
      "Number of words in the sample texts: (10, 25)\n"
     ]
    }
   ],
   "source": [
    "# Change text according to the sequence of values in the dictionary\n",
    "X_train_ = tokenizer.texts_to_sequences(X_train)\n",
    "print(\"Number of words in the sample texts: ({0}, {1})\".format(len(X_train_[0]), len(X_train_[1])))"
   ]
  },
  {
   "cell_type": "markdown",
   "metadata": {},
   "source": [
    "### Define sequence input length"
   ]
  },
  {
   "cell_type": "code",
   "execution_count": 51,
   "metadata": {},
   "outputs": [
    {
     "data": {
      "text/plain": [
       "316"
      ]
     },
     "execution_count": 51,
     "metadata": {},
     "output_type": "execute_result"
    }
   ],
   "source": [
    "# longest tokenized text in dataset\n",
    "len(max(X_train_, key = lambda x: len(x)))"
   ]
  },
  {
   "cell_type": "code",
   "execution_count": 52,
   "metadata": {},
   "outputs": [
    {
     "name": "stdout",
     "output_type": "stream",
     "text": [
      "[316, 246, 236, 194, 161, 153, 147, 144, 141, 137, 128, 127, 117, 94, 93, 89, 80, 80, 75, 74, 70, 70, 70, 70, 69, 67, 67, 66, 65, 65, 62, 62, 62, 61, 60, 60, 60, 60, 60, 60, 59, 58, 58, 58, 56, 56, 56, 56, 55, 55]\n"
     ]
    }
   ],
   "source": [
    "# length of the first 50 tokenized texts\n",
    "cases = sorted(list(X_train_), key = lambda x: len(x), reverse=True)\n",
    "print([len(x) for x in cases[:50]])"
   ]
  },
  {
   "cell_type": "code",
   "execution_count": 53,
   "metadata": {},
   "outputs": [
    {
     "name": "stdout",
     "output_type": "stream",
     "text": [
      "14.0\n"
     ]
    }
   ],
   "source": [
    "# median of the lengths of the tokenized texts\n",
    "long_ = [len(x) for x in cases]\n",
    "print(np.median(long_))"
   ]
  },
  {
   "cell_type": "code",
   "execution_count": 54,
   "metadata": {},
   "outputs": [
    {
     "data": {
      "text/plain": [
       "40.0"
      ]
     },
     "execution_count": 54,
     "metadata": {},
     "output_type": "execute_result"
    }
   ],
   "source": [
    "# Quartile 99.5% of the lengths of the tokenized texts\n",
    "np.quantile(long_,0.995)"
   ]
  },
  {
   "cell_type": "raw",
   "metadata": {},
   "source": [
    "As we can see, the longest text is 316 words while the median text is just 14 words. Due to this difference, the 99.5% curtile was applied, resulting in 99.5% of the data having a maximum of 40 words. With this information we apply a maximum size of 40 words."
   ]
  },
  {
   "cell_type": "code",
   "execution_count": 55,
   "metadata": {},
   "outputs": [
    {
     "name": "stdout",
     "output_type": "stream",
     "text": [
      "Now the text has a fixed length of 40. \n",
      "First sentence: \n",
      "[    0     0     0     0     0     0     0     0     0     0     0     0\n",
      "     0     0     0     0     0     0     0     0     0     0     0     0\n",
      "     0     0     0     0     0     0  1509 13042    36 15459 13043 27206\n",
      "    50  2946   221  7066]\n"
     ]
    }
   ],
   "source": [
    "# makes all sequences(sentences) the same size\n",
    "X_train_ = pad_sequences(X_train_, 40) \n",
    "print(\"Now the text has a fixed length of 40. \\nFirst sentence: \\n{0}\".format(X_train_[0]))"
   ]
  },
  {
   "cell_type": "markdown",
   "metadata": {},
   "source": [
    "### Set shape to training data"
   ]
  },
  {
   "cell_type": "code",
   "execution_count": 56,
   "metadata": {},
   "outputs": [
    {
     "data": {
      "text/plain": [
       "array([[    0,     0,     0, ...,  2946,   221,  7066],\n",
       "       [    0,     0,     0, ...,   329,   425, 19465],\n",
       "       [    0,     0,     0, ...,   610,  1131, 15461],\n",
       "       ...,\n",
       "       [    0,     0,     0, ...,   127,    53,   218],\n",
       "       [    0,     0,     0, ...,   598, 19218,   824],\n",
       "       [    0,     0,     0, ...,   437,    10,    99]])"
      ]
     },
     "execution_count": 56,
     "metadata": {},
     "output_type": "execute_result"
    }
   ],
   "source": [
    "X_train_"
   ]
  },
  {
   "cell_type": "code",
   "execution_count": 57,
   "metadata": {},
   "outputs": [
    {
     "data": {
      "text/plain": [
       "array([[[    0],\n",
       "        [    0],\n",
       "        [    0],\n",
       "        ...,\n",
       "        [ 2946],\n",
       "        [  221],\n",
       "        [ 7066]],\n",
       "\n",
       "       [[    0],\n",
       "        [    0],\n",
       "        [    0],\n",
       "        ...,\n",
       "        [  329],\n",
       "        [  425],\n",
       "        [19465]],\n",
       "\n",
       "       [[    0],\n",
       "        [    0],\n",
       "        [    0],\n",
       "        ...,\n",
       "        [  610],\n",
       "        [ 1131],\n",
       "        [15461]],\n",
       "\n",
       "       ...,\n",
       "\n",
       "       [[    0],\n",
       "        [    0],\n",
       "        [    0],\n",
       "        ...,\n",
       "        [  127],\n",
       "        [   53],\n",
       "        [  218]],\n",
       "\n",
       "       [[    0],\n",
       "        [    0],\n",
       "        [    0],\n",
       "        ...,\n",
       "        [  598],\n",
       "        [19218],\n",
       "        [  824]],\n",
       "\n",
       "       [[    0],\n",
       "        [    0],\n",
       "        [    0],\n",
       "        ...,\n",
       "        [  437],\n",
       "        [   10],\n",
       "        [   99]]])"
      ]
     },
     "execution_count": 57,
     "metadata": {},
     "output_type": "execute_result"
    }
   ],
   "source": [
    "X_train_ = X_train_.reshape(X_train_.shape[0],X_train_.shape[1],1)\n",
    "X_train_"
   ]
  },
  {
   "cell_type": "markdown",
   "metadata": {},
   "source": [
    "## Processing of test data"
   ]
  },
  {
   "cell_type": "markdown",
   "metadata": {},
   "source": [
    "### Encode test sequences"
   ]
  },
  {
   "cell_type": "code",
   "execution_count": 58,
   "metadata": {},
   "outputs": [
    {
     "data": {
      "text/plain": [
       "array([[    0,     0,     0, ...,  1205,   682,   120],\n",
       "       [    0,     0,     0, ...,   497,   375,    14],\n",
       "       [    0,     0,     0, ...,     3,    39,  9721],\n",
       "       ...,\n",
       "       [    0,     0,     0, ...,   891,    74,  1148],\n",
       "       [    0,     0,     0, ...,    56, 11540,   990],\n",
       "       [    0,     0,     0, ...,  3171,  1576, 20120]])"
      ]
     },
     "execution_count": 58,
     "metadata": {},
     "output_type": "execute_result"
    }
   ],
   "source": [
    "X_test_ = tokenizer.texts_to_sequences(X_test)\n",
    "X_test_ = pad_sequences(X_test_, 40)\n",
    "X_test_"
   ]
  },
  {
   "cell_type": "code",
   "execution_count": 59,
   "metadata": {},
   "outputs": [
    {
     "data": {
      "text/plain": [
       "array([[[    0],\n",
       "        [    0],\n",
       "        [    0],\n",
       "        ...,\n",
       "        [ 1205],\n",
       "        [  682],\n",
       "        [  120]],\n",
       "\n",
       "       [[    0],\n",
       "        [    0],\n",
       "        [    0],\n",
       "        ...,\n",
       "        [  497],\n",
       "        [  375],\n",
       "        [   14]],\n",
       "\n",
       "       [[    0],\n",
       "        [    0],\n",
       "        [    0],\n",
       "        ...,\n",
       "        [    3],\n",
       "        [   39],\n",
       "        [ 9721]],\n",
       "\n",
       "       ...,\n",
       "\n",
       "       [[    0],\n",
       "        [    0],\n",
       "        [    0],\n",
       "        ...,\n",
       "        [  891],\n",
       "        [   74],\n",
       "        [ 1148]],\n",
       "\n",
       "       [[    0],\n",
       "        [    0],\n",
       "        [    0],\n",
       "        ...,\n",
       "        [   56],\n",
       "        [11540],\n",
       "        [  990]],\n",
       "\n",
       "       [[    0],\n",
       "        [    0],\n",
       "        [    0],\n",
       "        ...,\n",
       "        [ 3171],\n",
       "        [ 1576],\n",
       "        [20120]]])"
      ]
     },
     "execution_count": 59,
     "metadata": {},
     "output_type": "execute_result"
    }
   ],
   "source": [
    "X_test_.reshape(X_test_.shape[0],X_test_.shape[1],1)"
   ]
  },
  {
   "cell_type": "code",
   "execution_count": 60,
   "metadata": {},
   "outputs": [
    {
     "data": {
      "text/plain": [
       "array([[[    0],\n",
       "        [    0],\n",
       "        [    0],\n",
       "        ...,\n",
       "        [ 1205],\n",
       "        [  682],\n",
       "        [  120]],\n",
       "\n",
       "       [[    0],\n",
       "        [    0],\n",
       "        [    0],\n",
       "        ...,\n",
       "        [  497],\n",
       "        [  375],\n",
       "        [   14]],\n",
       "\n",
       "       [[    0],\n",
       "        [    0],\n",
       "        [    0],\n",
       "        ...,\n",
       "        [    3],\n",
       "        [   39],\n",
       "        [ 9721]],\n",
       "\n",
       "       ...,\n",
       "\n",
       "       [[    0],\n",
       "        [    0],\n",
       "        [    0],\n",
       "        ...,\n",
       "        [  891],\n",
       "        [   74],\n",
       "        [ 1148]],\n",
       "\n",
       "       [[    0],\n",
       "        [    0],\n",
       "        [    0],\n",
       "        ...,\n",
       "        [   56],\n",
       "        [11540],\n",
       "        [  990]],\n",
       "\n",
       "       [[    0],\n",
       "        [    0],\n",
       "        [    0],\n",
       "        ...,\n",
       "        [ 3171],\n",
       "        [ 1576],\n",
       "        [20120]]])"
      ]
     },
     "execution_count": 60,
     "metadata": {},
     "output_type": "execute_result"
    }
   ],
   "source": [
    "X_test_ = X_test_.reshape(X_test_.shape[0],X_test_.shape[1],1)\n",
    "X_test_"
   ]
  },
  {
   "cell_type": "markdown",
   "metadata": {},
   "source": [
    "# Modeling"
   ]
  },
  {
   "cell_type": "code",
   "execution_count": 61,
   "metadata": {},
   "outputs": [],
   "source": [
    "def predict(model, X_train, y_train, X_test, y_test):\n",
    "    \"\"\"allows to calculate all the metrics related to classification models\n",
    "    \n",
    "    args: \n",
    "    ----------\n",
    "        model (str): sentence to remove the stopwords\n",
    "        X_train (array): independent training variables\n",
    "        y_train (array): training target variable\n",
    "        X_test (array): independent test variables\n",
    "        y_test (array): test target variable\n",
    "    \n",
    "    return:\n",
    "    ----------\n",
    "          - Acurracy of training data\n",
    "          - First 5 predictions\n",
    "          - Accuracy of test data\n",
    "          - Accuracy of test data\n",
    "          - ROC AUC Score from test data\n",
    "          - Training data confusion matrix\n",
    "          - ROC curve\n",
    "          - Precision-recall curve\n",
    "    \"\"\"\n",
    "    \n",
    " \n",
    "    loss, acc = model.evaluate(X_test_, y_test)\n",
    "    print(\"Loss: {0} \\nTraining Accuracy: {1}\".format(loss, acc))\n",
    "    print('\\n')\n",
    "    \n",
    "    predictions = model.predict(X_test).reshape(1,-1)[0]\n",
    "    predictions = [0 if x < 0.5 else 1 for x in predictions]\n",
    "    print('Five first Predictions are: {}'.format(predictions[:5]))\n",
    "    print('Five first Real values are: {}'.format(y_test[:5]))\n",
    "    print('\\n')\n",
    "    \n",
    "    acc = accuracy_score(y_test, predictions)\n",
    "    print('Accuracy Score is: {}'.format(acc))\n",
    "    print('Precision Score is: {}'.format(precision_score(y_test, predictions)))\n",
    "    print('ROC AUC Score is: {}'.format(roc_auc_score(y_test, predictions)))\n",
    "    print('\\n')\n",
    "    \n",
    "    print(classification_report(y_test, predictions))\n",
    "    print('\\n')\n",
    "    \n",
    "    # Confusion Matrix\n",
    "    cm = confusion_matrix(y_test, predictions)    \n",
    "    fig, axes = plt.subplots(1,3, figsize=(20,5))\n",
    "    sns.heatmap(cm, annot=True, fmt='g', ax=axes[0])\n",
    "    axes[0].set_title('Confusion Matrix', fontsize=16)\n",
    "\n",
    "    # ROC curve\n",
    "    fpr_lr, tpr_lr, _ = roc_curve(y_test, predictions)\n",
    "    roc_auc_lr = auc(fpr_lr, tpr_lr)\n",
    "    closest_zero = np.argmin(np.abs(fpr_lr - 0.16))\n",
    "    closest_zero_fpr_lr = fpr_lr[closest_zero]\n",
    "    closest_zero_tpr_lr = tpr_lr[closest_zero]\n",
    "\n",
    "    axes[1].set_xlim([-0.01, 1.00])\n",
    "    axes[1].set_ylim([-0.01, 1.01])\n",
    "    axes[1].plot(fpr_lr, tpr_lr, lw=3, label='LogRegr ROC curve (area = {:0.2f})'.format(roc_auc_lr))\n",
    "    axes[1].plot(closest_zero_fpr_lr, closest_zero_tpr_lr, 'o', markersize = 12, fillstyle = 'none', c='r', mew=3)\n",
    "    axes[1].set_xlabel('False Positive Rate', fontsize=16)\n",
    "    axes[1].set_ylabel('True Positive Rate', fontsize=16)\n",
    "    axes[1].set_title('ROC curve', fontsize=16)\n",
    "    axes[1].legend(loc='lower right', fontsize=13)\n",
    "    axes[1].plot([0, 1], [0, 1], color='navy', lw=3, linestyle='--')\n",
    "    axes[1].set_aspect('equal')    \n",
    "    \n",
    "    # Precision recall curve\n",
    "    precision, recall, thresholds = precision_recall_curve(y_test, predictions)\n",
    "    closest_zero = np.argmin(np.abs(precision - 0.75))\n",
    "    closest_zero_p = precision[closest_zero]\n",
    "    closest_zero_r = recall[closest_zero]\n",
    "    \n",
    "    axes[2].set_xlim([0.0, 1.01])\n",
    "    axes[2].set_ylim([0.0, 1.01])\n",
    "    axes[2].plot(precision, recall, label='Precision-Recall Curve')\n",
    "    axes[2].plot(closest_zero_p, closest_zero_r, 'o', markersize = 12, fillstyle = 'none', c='r', mew=3)\n",
    "    axes[2].set_title('Precision Recall curve', fontsize=16)\n",
    "    axes[2].set_xlabel('Precision', fontsize=16)\n",
    "    axes[2].set_ylabel('Recall', fontsize=16)\n",
    "    axes[2].set_aspect('equal')    \n",
    "        \n",
    "    plt.show()"
   ]
  },
  {
   "cell_type": "markdown",
   "metadata": {},
   "source": [
    "**Models:**\n",
    "\n",
    "Different models were developed for this project, starting from the simplest only with simpleRR and Dense layers, later different types of layers were added, varying the units of each one until reaching the one presented below. The final model uses:\n",
    "- Embedding layer since it allows reducing the dimension of the text and giving context.\n",
    "- LSTM layer since it can capture long-term dependencies.\n",
    "- Dropout layer that allows avoiding overfitting."
   ]
  },
  {
   "cell_type": "markdown",
   "metadata": {},
   "source": [
    "## Model"
   ]
  },
  {
   "cell_type": "code",
   "execution_count": 63,
   "metadata": {},
   "outputs": [],
   "source": [
    "# input_dim: size of the vocabulary\n",
    "vocabulary_size = len(tokenizer.word_index)+1\n",
    "\n",
    "# output_dim:\n",
    "wordvec_dim = 200\n",
    "\n",
    "# input_length: size of the input sentence\n",
    "sequence_size = 40"
   ]
  },
  {
   "cell_type": "code",
   "execution_count": 64,
   "metadata": {},
   "outputs": [],
   "source": [
    "# instantiate the sequential type model\n",
    "model = Sequential()\n",
    "\n",
    "# add the layers\n",
    "model.add(Embedding(vocabulary_size, wordvec_dim, trainable=True, input_length=sequence_size))\n",
    "model.add(LSTM(64, return_sequences=True, dropout=0.2, recurrent_dropout=0.15))\n",
    "model.add(LSTM(64, return_sequences=False, dropout=0.2, recurrent_dropout=0.15))\n",
    "model.add(Dense(16))\n",
    "model.add(Dropout(rate=0.25))\n",
    "model.add(Dense(1, activation='sigmoid'))\n",
    "\n",
    "# compile the model\n",
    "model.compile(loss='binary_crossentropy', optimizer='adam', metrics=['accuracy'])"
   ]
  },
  {
   "cell_type": "code",
   "execution_count": 65,
   "metadata": {},
   "outputs": [
    {
     "name": "stdout",
     "output_type": "stream",
     "text": [
      "Model: \"sequential\"\n",
      "_________________________________________________________________\n",
      " Layer (type)                Output Shape              Param #   \n",
      "=================================================================\n",
      " embedding (Embedding)       (None, 40, 200)           11665400  \n",
      "                                                                 \n",
      " lstm (LSTM)                 (None, 40, 64)            67840     \n",
      "                                                                 \n",
      " lstm_1 (LSTM)               (None, 64)                33024     \n",
      "                                                                 \n",
      " dense (Dense)               (None, 16)                1040      \n",
      "                                                                 \n",
      " dropout (Dropout)           (None, 16)                0         \n",
      "                                                                 \n",
      " dense_1 (Dense)             (None, 1)                 17        \n",
      "                                                                 \n",
      "=================================================================\n",
      "Total params: 11,767,321\n",
      "Trainable params: 11,767,321\n",
      "Non-trainable params: 0\n",
      "_________________________________________________________________\n"
     ]
    }
   ],
   "source": [
    "model.summary()"
   ]
  },
  {
   "cell_type": "code",
   "execution_count": 66,
   "metadata": {},
   "outputs": [],
   "source": [
    "modelckeckpoint = ModelCheckpoint(\"best_model.hdf5\", save_best_only=True)\n",
    "early_stopping = EarlyStopping(monitor=\"val_loss\", patience = 5)"
   ]
  },
  {
   "cell_type": "code",
   "execution_count": 68,
   "metadata": {},
   "outputs": [
    {
     "name": "stdout",
     "output_type": "stream",
     "text": [
      "Epoch 1/10\n",
      "1256/1256 [==============================] - 536s 418ms/step - loss: 0.4672 - accuracy: 0.7789 - val_loss: 0.4175 - val_accuracy: 0.8123\n",
      "Epoch 2/10\n",
      "1256/1256 [==============================] - 474s 378ms/step - loss: 0.2722 - accuracy: 0.8890 - val_loss: 0.4527 - val_accuracy: 0.8040\n",
      "Epoch 3/10\n",
      "1256/1256 [==============================] - 610s 486ms/step - loss: 0.1406 - accuracy: 0.9445 - val_loss: 0.6327 - val_accuracy: 0.7967\n",
      "Epoch 4/10\n",
      "1256/1256 [==============================] - 570s 454ms/step - loss: 0.0815 - accuracy: 0.9696 - val_loss: 0.8847 - val_accuracy: 0.7927\n",
      "Epoch 5/10\n",
      "1256/1256 [==============================] - 691s 550ms/step - loss: 0.0518 - accuracy: 0.9811 - val_loss: 1.0553 - val_accuracy: 0.7887\n",
      "Epoch 6/10\n",
      "1256/1256 [==============================] - 614s 489ms/step - loss: 0.0397 - accuracy: 0.9855 - val_loss: 1.1621 - val_accuracy: 0.7857\n"
     ]
    }
   ],
   "source": [
    "# training\n",
    "history = model.fit(X_train_, y_train, validation_data=(X_test_, y_test), epochs=10, callbacks= [modelckeckpoint, early_stopping])"
   ]
  },
  {
   "cell_type": "code",
   "execution_count": 69,
   "metadata": {},
   "outputs": [
    {
     "data": {
      "image/png": "[encoded data removed]",
      "text/plain": [
       "<Figure size 720x360 with 2 Axes>"
      ]
     },
     "metadata": {
      "needs_background": "light"
     },
     "output_type": "display_data"
    }
   ],
   "source": [
    "fig, ax= plt.subplots(1,2, figsize=(10,5))\n",
    "ax[0].plot(history.history['accuracy'])\n",
    "ax[0].plot(history.history['val_accuracy'])\n",
    "ax[0].legend(['train', 'test'], loc='upper left')\n",
    "ax[0].set_xlabel('epoch')\n",
    "ax[0].set_ylabel('accuracy')\n",
    "\n",
    "ax[1].plot(history.history['loss'])\n",
    "ax[1].plot(history.history['val_loss'])\n",
    "ax[1].legend(['train', 'test'], loc='upper left')\n",
    "ax[1].set_xlabel('epoch')\n",
    "ax[1].set_ylabel('loss')\n",
    "\n",
    "plt.show()"
   ]
  },
  {
   "cell_type": "code",
   "execution_count": 71,
   "metadata": {},
   "outputs": [
    {
     "name": "stdout",
     "output_type": "stream",
     "text": [
      "Model: \"sequential\"\n",
      "_________________________________________________________________\n",
      " Layer (type)                Output Shape              Param #   \n",
      "=================================================================\n",
      " embedding (Embedding)       (None, 40, 200)           11665400  \n",
      "                                                                 \n",
      " lstm (LSTM)                 (None, 40, 64)            67840     \n",
      "                                                                 \n",
      " lstm_1 (LSTM)               (None, 64)                33024     \n",
      "                                                                 \n",
      " dense (Dense)               (None, 16)                1040      \n",
      "                                                                 \n",
      " dropout (Dropout)           (None, 16)                0         \n",
      "                                                                 \n",
      " dense_1 (Dense)             (None, 1)                 17        \n",
      "                                                                 \n",
      "=================================================================\n",
      "Total params: 11,767,321\n",
      "Trainable params: 11,767,321\n",
      "Non-trainable params: 0\n",
      "_________________________________________________________________\n"
     ]
    }
   ],
   "source": [
    "model = keras.models.load_model('best_model.hdf5')\n",
    "model.summary()"
   ]
  },
  {
   "cell_type": "code",
   "execution_count": 72,
   "metadata": {},
   "outputs": [
    {
     "name": "stdout",
     "output_type": "stream",
     "text": [
      "539/539 [==============================] - 22s 34ms/step - loss: 0.4175 - accuracy: 0.8123\n",
      "Loss: 0.41748157143592834 \n",
      "Training Accuracy: 0.8123077154159546\n",
      "\n",
      "\n",
      "Five first Predictions are: [1, 1, 0, 0, 1]\n",
      "Five first Real values are: [1 1 1 0 1]\n",
      "\n",
      "\n",
      "Accuracy Score is: 0.8123076923076923\n",
      "Precision Score is: 0.7978959025470653\n",
      "ROC AUC Score is: 0.8123062862179893\n",
      "\n",
      "\n",
      "              precision    recall  f1-score   support\n",
      "\n",
      "           0       0.83      0.79      0.81      8612\n",
      "           1       0.80      0.84      0.82      8613\n",
      "\n",
      "    accuracy                           0.81     17225\n",
      "   macro avg       0.81      0.81      0.81     17225\n",
      "weighted avg       0.81      0.81      0.81     17225\n",
      "\n",
      "\n",
      "\n"
     ]
    },
    {
     "data": {
      "image/png": "[encoded data removed]",
      "text/plain": [
       "<Figure size 1440x360 with 4 Axes>"
      ]
     },
     "metadata": {
      "needs_background": "light"
     },
     "output_type": "display_data"
    }
   ],
   "source": [
    "# evaluation\n",
    "predict(model, X_train_, y_train, X_test_, y_test)"
   ]
  },
  {
   "cell_type": "code",
   "execution_count": 73,
   "metadata": {},
   "outputs": [
    {
     "name": "stdout",
     "output_type": "stream",
     "text": [
      "Loss: 0.28386858105659485 \n",
      "Accuracy: 0.8985543251037598\n"
     ]
    }
   ],
   "source": [
    "loss, acc = model.evaluate(X_train_, y_train, verbose=0)\n",
    "print(\"Loss: {0} \\nAccuracy: {1}\".format(loss, acc))"
   ]
  },
  {
   "cell_type": "code",
   "execution_count": 74,
   "metadata": {},
   "outputs": [
    {
     "name": "stdout",
     "output_type": "stream",
     "text": [
      "Loss: 0.41748157143592834 \n",
      "Accuracy: 0.8123077154159546\n"
     ]
    }
   ],
   "source": [
    "loss, acc = model.evaluate(X_test_, y_test, verbose=0)\n",
    "print(\"Loss: {0} \\nAccuracy: {1}\".format(loss, acc))"
   ]
  }
 ],
 "metadata": {
  "kernelspec": {
   "display_name": "GeniosStudio",
   "language": "python",
   "name": "geniosstudio"
  },
  "language_info": {
   "codemirror_mode": {
    "name": "ipython",
    "version": 3
   },
   "file_extension": ".py",
   "mimetype": "text/x-python",
   "name": "python",
   "nbconvert_exporter": "python",
   "pygments_lexer": "ipython3",
   "version": "3.8.5"
  }
 },
 "nbformat": 4,
 "nbformat_minor": 4
}
