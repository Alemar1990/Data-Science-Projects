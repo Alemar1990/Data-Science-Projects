{
 "cells": [
  {
   "cell_type": "markdown",
   "id": "9a9ada08-c9f0-466f-91a0-265fa539f9f5",
   "metadata": {},
   "source": [
    "# Which version of the website should you use?\n",
    "\n",
    "## 📖 Background\n",
    "You work for an early-stage startup in Germany. Your team has been working on a redesign of the landing page. The team believes a new design will increase the number of people who click through and join your site. \n",
    "\n",
    "They have been testing the changes for a few weeks and now they want to measure the impact of the change and need you to determine if the increase can be due to random chance or if it is statistically significant."
   ]
  },
  {
   "cell_type": "markdown",
   "id": "10dcc269-3659-4851-99cd-f1ffb7f818aa",
   "metadata": {
    "tags": []
   },
   "source": [
    "## 💾 The data\n",
    "The team assembled the following file:\n",
    "\n",
    "#### Redesign test data\n",
    "- \"treatment\" - \"yes\" if the user saw the new version of the landing page, no otherwise.\n",
    "- \"new_images\" - \"yes\" if the page used a new set of images, no otherwise.\n",
    "- \"converted\" - 1 if the user joined the site, 0 otherwise.\n",
    "\n",
    "The control group is those users with \"no\" in both columns: the old version with the old set of images."
   ]
  },
  {
   "cell_type": "code",
   "execution_count": 1,
   "id": "40251159-3eea-47f8-bfb4-09e38d5ced65",
   "metadata": {},
   "outputs": [
    {
     "data": {
      "text/html": [
       "<div>\n",
       "<style scoped>\n",
       "    .dataframe tbody tr th:only-of-type {\n",
       "        vertical-align: middle;\n",
       "    }\n",
       "\n",
       "    .dataframe tbody tr th {\n",
       "        vertical-align: top;\n",
       "    }\n",
       "\n",
       "    .dataframe thead th {\n",
       "        text-align: right;\n",
       "    }\n",
       "</style>\n",
       "<table border=\"1\" class=\"dataframe\">\n",
       "  <thead>\n",
       "    <tr style=\"text-align: right;\">\n",
       "      <th></th>\n",
       "      <th>treatment</th>\n",
       "      <th>new_images</th>\n",
       "      <th>converted</th>\n",
       "    </tr>\n",
       "  </thead>\n",
       "  <tbody>\n",
       "    <tr>\n",
       "      <th>0</th>\n",
       "      <td>yes</td>\n",
       "      <td>yes</td>\n",
       "      <td>0</td>\n",
       "    </tr>\n",
       "    <tr>\n",
       "      <th>1</th>\n",
       "      <td>yes</td>\n",
       "      <td>yes</td>\n",
       "      <td>0</td>\n",
       "    </tr>\n",
       "    <tr>\n",
       "      <th>2</th>\n",
       "      <td>yes</td>\n",
       "      <td>yes</td>\n",
       "      <td>0</td>\n",
       "    </tr>\n",
       "    <tr>\n",
       "      <th>3</th>\n",
       "      <td>yes</td>\n",
       "      <td>no</td>\n",
       "      <td>0</td>\n",
       "    </tr>\n",
       "    <tr>\n",
       "      <th>4</th>\n",
       "      <td>no</td>\n",
       "      <td>yes</td>\n",
       "      <td>0</td>\n",
       "    </tr>\n",
       "  </tbody>\n",
       "</table>\n",
       "</div>"
      ],
      "text/plain": [
       "  treatment new_images  converted\n",
       "0       yes        yes          0\n",
       "1       yes        yes          0\n",
       "2       yes        yes          0\n",
       "3       yes         no          0\n",
       "4        no        yes          0"
      ]
     },
     "execution_count": 1,
     "metadata": {},
     "output_type": "execute_result"
    }
   ],
   "source": [
    "import pandas as pd\n",
    "df = pd.read_csv('./data/redesign.csv')\n",
    "df.head()"
   ]
  },
  {
   "cell_type": "markdown",
   "id": "54e0ae0c-ff96-443e-9ff3-718f1ab846e5",
   "metadata": {},
   "source": [
    "## 💪 Challenge\n",
    "Complete the following tasks:\n",
    "\n",
    "1. Analyze the conversion rates for each of the four groups: the new/old design of the landing page and the new/old pictures.\n",
    "2. Can the increases observed be explained by randomness? (Hint: Think A/B test)\n",
    "3. Which version of the website should they use?"
   ]
  },
  {
   "cell_type": "markdown",
   "id": "efda8e32-5c7e-48cc-8bd6-83ad3ba72f6e",
   "metadata": {},
   "source": [
    "## 🧑‍⚖️ Judging criteria\n",
    "\n",
    "We will randomly select ten winners from the correct submissions for this challenge.\n",
    "\n",
    "The winners will receive DataCamp merchandise."
   ]
  },
  {
   "cell_type": "markdown",
   "id": "7fa68a10-14d8-4db9-a473-9efdab8f2fbd",
   "metadata": {},
   "source": [
    "## ✅ Checklist before publishing\n",
    "- Rename your workspace to make it descriptive of your work. N.B. you should leave the notebook name as notebook.ipynb.\n",
    "- Remove redundant cells like the judging criteria, so the workbook is focused on your answers.\n",
    "- Check that all the cells run without error."
   ]
  },
  {
   "cell_type": "markdown",
   "id": "3bef7acb-5b00-4282-8c3e-1aa34bf4b7df",
   "metadata": {},
   "source": [
    "## ⌛️ Time is ticking. Good luck!"
   ]
  },
  {
   "cell_type": "markdown",
   "id": "96ac0174-e2b2-4376-9076-2df61c68ad38",
   "metadata": {},
   "source": [
    "# Experiment design"
   ]
  },
  {
   "cell_type": "markdown",
   "id": "4e7a20ec-c44e-4f43-9cac-7adde150796e",
   "metadata": {},
   "source": [
    "We formulate the hypothesis. That way our interpretation of the results is correct as well as rigorous.\n",
    "Given we don’t know if the new design will perform better, worse or the same as our current design, we’ll choose a two-tailed test:\n",
    "\n",
    "Hypothesis:\n",
    "- Ho: p = po\n",
    "- Ha: p != po\n",
    "    \n",
    "where p and pₒ stand for the conversion rate of the new and old design, respectively. We’ll also set a confidence level of 95%:\n",
    "- α = 0.05   \n",
    "\n",
    "If the p-value is lower than α, then we reject the Null hypothesis. Since our α=0.05 (indicating 5% probability), our confidence (1 — α) is 95%. We want to be 95% confident it is statistically different from the conversion rate of our old design, before we decide to reject the Null hypothesis Hₒ.\n"
   ]
  },
  {
   "cell_type": "markdown",
   "id": "59e6cec4-34f1-4305-92de-16ada9dfdc90",
   "metadata": {},
   "source": [
    "# Libraries"
   ]
  },
  {
   "cell_type": "code",
   "execution_count": 2,
   "id": "41450895-da3a-4f0e-a1f3-452832adb410",
   "metadata": {},
   "outputs": [],
   "source": [
    "import pandas as pd\n",
    "import statsmodels.stats.api as sms\n",
    "import matplotlib.pyplot as plt\n",
    "import seaborn as sns\n",
    "from math import ceil\n",
    "import numpy as np\n",
    "import scipy.stats as stats\n",
    "from statsmodels.stats.proportion import proportions_ztest, proportion_confint"
   ]
  },
  {
   "cell_type": "markdown",
   "id": "6398925e-68e6-4760-a09d-f5135f8a146d",
   "metadata": {},
   "source": [
    "# Exploratoy Data Analysis"
   ]
  },
  {
   "cell_type": "code",
   "execution_count": 3,
   "id": "65704a8d-a74d-4e6b-934b-05ad3cd72e9a",
   "metadata": {},
   "outputs": [
    {
     "name": "stdout",
     "output_type": "stream",
     "text": [
      "<class 'pandas.core.frame.DataFrame'>\n",
      "RangeIndex: 40484 entries, 0 to 40483\n",
      "Data columns (total 3 columns):\n",
      " #   Column      Non-Null Count  Dtype \n",
      "---  ------      --------------  ----- \n",
      " 0   treatment   40484 non-null  object\n",
      " 1   new_images  40484 non-null  object\n",
      " 2   converted   40484 non-null  int64 \n",
      "dtypes: int64(1), object(2)\n",
      "memory usage: 949.0+ KB\n"
     ]
    }
   ],
   "source": [
    "df.info()"
   ]
  },
  {
   "cell_type": "code",
   "execution_count": 4,
   "id": "193d71f4-36ce-4dff-b052-009c5fa76303",
   "metadata": {},
   "outputs": [
    {
     "data": {
      "text/plain": [
       "object    2\n",
       "int64     1\n",
       "dtype: int64"
      ]
     },
     "execution_count": 4,
     "metadata": {},
     "output_type": "execute_result"
    }
   ],
   "source": [
    "# Type of the feature\n",
    "df.dtypes.value_counts()"
   ]
  },
  {
   "cell_type": "markdown",
   "id": "790f0d5c-15db-424e-b4fe-d1c28e973b9b",
   "metadata": {},
   "source": [
    "## Missing values"
   ]
  },
  {
   "cell_type": "code",
   "execution_count": 5,
   "id": "752d9514-bc43-4af5-897b-e7f09d89ac4b",
   "metadata": {},
   "outputs": [
    {
     "data": {
      "image/png": "[encoded data removed]",
      "text/plain": [
       "<Figure size 1440x360 with 1 Axes>"
      ]
     },
     "metadata": {
      "needs_background": "light"
     },
     "output_type": "display_data"
    }
   ],
   "source": [
    "plt.figure(figsize=(20,5))\n",
    "sns.heatmap(df.isnull(), cbar=False)\n",
    "plt.show()"
   ]
  },
  {
   "cell_type": "code",
   "execution_count": 6,
   "id": "2b49cb45-94c2-4c80-a061-fb7353c1e0cb",
   "metadata": {},
   "outputs": [
    {
     "data": {
      "text/plain": [
       "treatment     0\n",
       "new_images    0\n",
       "converted     0\n",
       "dtype: int64"
      ]
     },
     "execution_count": 6,
     "metadata": {},
     "output_type": "execute_result"
    }
   ],
   "source": [
    "# Number of missing values by feaure\n",
    "df.isna().sum()"
   ]
  },
  {
   "cell_type": "markdown",
   "id": "61e8066e-4fe9-46c2-bc97-f6e4303a6148",
   "metadata": {},
   "source": [
    "**Insights:**\n",
    "\n",
    "- There are not missing values"
   ]
  },
  {
   "cell_type": "markdown",
   "id": "2ac4e495-220d-4b97-a817-942c08dddd51",
   "metadata": {},
   "source": [
    "## Duplicate values"
   ]
  },
  {
   "cell_type": "markdown",
   "id": "b809c8aa-d19d-4f78-99d1-798ca28361da",
   "metadata": {},
   "source": [
    "**Insights:**\n",
    "- We assume there are not duplicated values in the dataframe, because there is not a feature where we can check this as an ID."
   ]
  },
  {
   "cell_type": "markdown",
   "id": "34c483e6-1563-4f39-adf9-fb48ac6a1b5c",
   "metadata": {},
   "source": [
    "# Groups"
   ]
  },
  {
   "cell_type": "code",
   "execution_count": 7,
   "id": "6c37cdca-305a-41eb-bb05-99aa15a056aa",
   "metadata": {},
   "outputs": [
    {
     "data": {
      "text/html": [
       "<div>\n",
       "<style scoped>\n",
       "    .dataframe tbody tr th:only-of-type {\n",
       "        vertical-align: middle;\n",
       "    }\n",
       "\n",
       "    .dataframe tbody tr th {\n",
       "        vertical-align: top;\n",
       "    }\n",
       "\n",
       "    .dataframe thead th {\n",
       "        text-align: right;\n",
       "    }\n",
       "</style>\n",
       "<table border=\"1\" class=\"dataframe\">\n",
       "  <thead>\n",
       "    <tr style=\"text-align: right;\">\n",
       "      <th>new_images</th>\n",
       "      <th>no</th>\n",
       "      <th>yes</th>\n",
       "    </tr>\n",
       "    <tr>\n",
       "      <th>treatment</th>\n",
       "      <th></th>\n",
       "      <th></th>\n",
       "    </tr>\n",
       "  </thead>\n",
       "  <tbody>\n",
       "    <tr>\n",
       "      <th>no</th>\n",
       "      <td>10121</td>\n",
       "      <td>10121</td>\n",
       "    </tr>\n",
       "    <tr>\n",
       "      <th>yes</th>\n",
       "      <td>10121</td>\n",
       "      <td>10121</td>\n",
       "    </tr>\n",
       "  </tbody>\n",
       "</table>\n",
       "</div>"
      ],
      "text/plain": [
       "new_images     no    yes\n",
       "treatment               \n",
       "no          10121  10121\n",
       "yes         10121  10121"
      ]
     },
     "execution_count": 7,
     "metadata": {},
     "output_type": "execute_result"
    }
   ],
   "source": [
    "pd.crosstab(df['treatment'], df['new_images'])"
   ]
  },
  {
   "cell_type": "markdown",
   "id": "98b83264-ee82-4010-b5d2-b7d53e172cb5",
   "metadata": {},
   "source": [
    "**Insights:**\n",
    "- we can see that there are four different groups in our data set."
   ]
  },
  {
   "cell_type": "markdown",
   "id": "887b6ec0-3f05-4da1-a3b0-99274c05dcc4",
   "metadata": {},
   "source": [
    "## Separation into groups"
   ]
  },
  {
   "cell_type": "code",
   "execution_count": 8,
   "id": "e7d59cab-ac82-4498-bc28-68fce955c844",
   "metadata": {},
   "outputs": [],
   "source": [
    "def groups(x):\n",
    "    \n",
    "    x, y = x\n",
    "    if (x == 'no') & (y == 'no'):\n",
    "        return 'control'\n",
    "    elif (x == 'no') & (y == 'yes'):\n",
    "        return 'old design with new images'\n",
    "    elif (x == 'yes') & (y == 'yes'):\n",
    "        return 'new desing'\n",
    "    else:\n",
    "        return 'new desing with new images'"
   ]
  },
  {
   "cell_type": "code",
   "execution_count": 9,
   "id": "5fa316be-dd74-470d-8514-8153f878357b",
   "metadata": {},
   "outputs": [
    {
     "data": {
      "text/html": [
       "<div>\n",
       "<style scoped>\n",
       "    .dataframe tbody tr th:only-of-type {\n",
       "        vertical-align: middle;\n",
       "    }\n",
       "\n",
       "    .dataframe tbody tr th {\n",
       "        vertical-align: top;\n",
       "    }\n",
       "\n",
       "    .dataframe thead th {\n",
       "        text-align: right;\n",
       "    }\n",
       "</style>\n",
       "<table border=\"1\" class=\"dataframe\">\n",
       "  <thead>\n",
       "    <tr style=\"text-align: right;\">\n",
       "      <th></th>\n",
       "      <th>treatment</th>\n",
       "      <th>new_images</th>\n",
       "      <th>converted</th>\n",
       "      <th>groups</th>\n",
       "    </tr>\n",
       "  </thead>\n",
       "  <tbody>\n",
       "    <tr>\n",
       "      <th>0</th>\n",
       "      <td>yes</td>\n",
       "      <td>yes</td>\n",
       "      <td>0</td>\n",
       "      <td>new desing</td>\n",
       "    </tr>\n",
       "    <tr>\n",
       "      <th>1</th>\n",
       "      <td>yes</td>\n",
       "      <td>yes</td>\n",
       "      <td>0</td>\n",
       "      <td>new desing</td>\n",
       "    </tr>\n",
       "    <tr>\n",
       "      <th>2</th>\n",
       "      <td>yes</td>\n",
       "      <td>yes</td>\n",
       "      <td>0</td>\n",
       "      <td>new desing</td>\n",
       "    </tr>\n",
       "    <tr>\n",
       "      <th>3</th>\n",
       "      <td>yes</td>\n",
       "      <td>no</td>\n",
       "      <td>0</td>\n",
       "      <td>new desing with new images</td>\n",
       "    </tr>\n",
       "    <tr>\n",
       "      <th>4</th>\n",
       "      <td>no</td>\n",
       "      <td>yes</td>\n",
       "      <td>0</td>\n",
       "      <td>old design with new images</td>\n",
       "    </tr>\n",
       "  </tbody>\n",
       "</table>\n",
       "</div>"
      ],
      "text/plain": [
       "  treatment new_images  converted                      groups\n",
       "0       yes        yes          0                  new desing\n",
       "1       yes        yes          0                  new desing\n",
       "2       yes        yes          0                  new desing\n",
       "3       yes         no          0  new desing with new images\n",
       "4        no        yes          0  old design with new images"
      ]
     },
     "execution_count": 9,
     "metadata": {},
     "output_type": "execute_result"
    }
   ],
   "source": [
    "df['groups'] = df[['treatment','new_images']].apply(groups, axis=1)\n",
    "df.head()"
   ]
  },
  {
   "cell_type": "markdown",
   "id": "bd8c6189-4826-4276-9741-10df6c5fb841",
   "metadata": {},
   "source": [
    "## % Converted by groups"
   ]
  },
  {
   "cell_type": "code",
   "execution_count": 10,
   "id": "d694d95d-c0ca-4406-b363-ce08e1759584",
   "metadata": {},
   "outputs": [
    {
     "data": {
      "text/html": [
       "<div>\n",
       "<style scoped>\n",
       "    .dataframe tbody tr th:only-of-type {\n",
       "        vertical-align: middle;\n",
       "    }\n",
       "\n",
       "    .dataframe tbody tr th {\n",
       "        vertical-align: top;\n",
       "    }\n",
       "\n",
       "    .dataframe thead th {\n",
       "        text-align: right;\n",
       "    }\n",
       "</style>\n",
       "<table border=\"1\" class=\"dataframe\">\n",
       "  <thead>\n",
       "    <tr style=\"text-align: right;\">\n",
       "      <th></th>\n",
       "      <th>Total user</th>\n",
       "      <th>Users converted</th>\n",
       "      <th>% Converted</th>\n",
       "    </tr>\n",
       "    <tr>\n",
       "      <th>groups</th>\n",
       "      <th></th>\n",
       "      <th></th>\n",
       "      <th></th>\n",
       "    </tr>\n",
       "  </thead>\n",
       "  <tbody>\n",
       "    <tr>\n",
       "      <th>control</th>\n",
       "      <td>10121</td>\n",
       "      <td>1084</td>\n",
       "      <td>10.71</td>\n",
       "    </tr>\n",
       "    <tr>\n",
       "      <th>new desing</th>\n",
       "      <td>10121</td>\n",
       "      <td>1151</td>\n",
       "      <td>11.37</td>\n",
       "    </tr>\n",
       "    <tr>\n",
       "      <th>new desing with new images</th>\n",
       "      <td>10121</td>\n",
       "      <td>1215</td>\n",
       "      <td>12.00</td>\n",
       "    </tr>\n",
       "    <tr>\n",
       "      <th>old design with new images</th>\n",
       "      <td>10121</td>\n",
       "      <td>1139</td>\n",
       "      <td>11.25</td>\n",
       "    </tr>\n",
       "  </tbody>\n",
       "</table>\n",
       "</div>"
      ],
      "text/plain": [
       "                            Total user  Users converted  % Converted\n",
       "groups                                                              \n",
       "control                          10121             1084        10.71\n",
       "new desing                       10121             1151        11.37\n",
       "new desing with new images       10121             1215        12.00\n",
       "old design with new images       10121             1139        11.25"
      ]
     },
     "execution_count": 10,
     "metadata": {},
     "output_type": "execute_result"
    }
   ],
   "source": [
    "df_info = pd.DataFrame()\n",
    "df_info['Total user'] =  df.groupby('groups').apply(lambda x: x.shape[0])\n",
    "df_info['Users converted'] = df.groupby('groups').apply(lambda x: x['converted'].sum())\n",
    "df_info['% Converted'] = df.groupby('groups').apply(lambda x: round((x['converted'].sum()/ x['converted'].shape[0])*100,2))\n",
    "df_info"
   ]
  },
  {
   "cell_type": "markdown",
   "id": "cee04792-a5b1-4ac5-b6a1-f59a9d7034ef",
   "metadata": {},
   "source": [
    "**Insights:**\n",
    "- we can observe that the other 3 groups that are not control groups there is an increase of converted users, we have to check if this increase is statistically significant and which was the one with the highest conversion. \n"
   ]
  },
  {
   "cell_type": "markdown",
   "id": "bd483b91-4a5e-4f0d-8803-840043ed3ea9",
   "metadata": {},
   "source": [
    "# Sample size"
   ]
  },
  {
   "cell_type": "markdown",
   "id": "3232cdef-f5ef-44fa-a6ee-9a1084eab3b8",
   "metadata": {},
   "source": [
    "The sample size that we need is estimated through Power analysis, and it depends on:\n",
    "- Power of the test (1 — β): This represents the probability of finding a statistical difference between the groups in our test when a difference is actually present. This is usually set at 0.8 by convention (here’s more info on statistical power, if you are curious)\n",
    "- Alpha value (α): The critical value we set earlier to 0.05\n",
    "- Effect size: How big of a difference we expect there to be between the conversion rates\n",
    "\n",
    "As we can see above the conversion rate of our control group is approximately 10% and we want at least a 2% increase in conversion with the new and other designs reaching a 12% conversion rate."
   ]
  },
  {
   "cell_type": "code",
   "execution_count": 11,
   "id": "39285025-9439-4e61-9408-4a215e9c312f",
   "metadata": {},
   "outputs": [
    {
     "name": "stdout",
     "output_type": "stream",
     "text": [
      "Conversion rate of our control group - Baseline 0.10710404110265784\n"
     ]
    }
   ],
   "source": [
    "baseline_rate = df[(df['treatment'] == 'no') & (df['new_images'] == 'no')]['converted'].sum()/ df[(df['treatment'] == 'no') & (df['new_images'] == 'no')].shape[0]\n",
    "print(\"Conversion rate of our control group - Baseline {}\".format(baseline_rate))"
   ]
  },
  {
   "cell_type": "code",
   "execution_count": 12,
   "id": "dad20fbc-1628-4525-9083-036b66797459",
   "metadata": {},
   "outputs": [
    {
     "name": "stdout",
     "output_type": "stream",
     "text": [
      "Required sample size for the test by group: 4051\n"
     ]
    }
   ],
   "source": [
    "significant_rate = 0.02\n",
    "\n",
    "effect_size = sms.proportion_effectsize(baseline_rate, baseline_rate + significant_rate)\n",
    "required_sample = sms.NormalIndPower().solve_power(effect_size,\n",
    "                                                  power=0.8,\n",
    "                                                  alpha=0.05,\n",
    "                                                  ratio=1)\n",
    "\n",
    "required_sample = ceil(required_sample)\n",
    "print(\"Required sample size for the test by group: {}\".format(round(required_sample)))"
   ]
  },
  {
   "cell_type": "markdown",
   "id": "7e6100a6-dc01-4311-84a7-f8b49e05c830",
   "metadata": {},
   "source": [
    "# Select Groups"
   ]
  },
  {
   "cell_type": "markdown",
   "id": "27f86081-e8df-4255-b5d0-15600c426ece",
   "metadata": {},
   "source": [
    "## Control Group"
   ]
  },
  {
   "cell_type": "code",
   "execution_count": 13,
   "id": "4b1ac1ea-a948-41a9-aa5c-f41807ff70c6",
   "metadata": {},
   "outputs": [
    {
     "data": {
      "text/html": [
       "<div>\n",
       "<style scoped>\n",
       "    .dataframe tbody tr th:only-of-type {\n",
       "        vertical-align: middle;\n",
       "    }\n",
       "\n",
       "    .dataframe tbody tr th {\n",
       "        vertical-align: top;\n",
       "    }\n",
       "\n",
       "    .dataframe thead th {\n",
       "        text-align: right;\n",
       "    }\n",
       "</style>\n",
       "<table border=\"1\" class=\"dataframe\">\n",
       "  <thead>\n",
       "    <tr style=\"text-align: right;\">\n",
       "      <th></th>\n",
       "      <th>treatment</th>\n",
       "      <th>new_images</th>\n",
       "      <th>converted</th>\n",
       "      <th>groups</th>\n",
       "    </tr>\n",
       "  </thead>\n",
       "  <tbody>\n",
       "    <tr>\n",
       "      <th>11397</th>\n",
       "      <td>no</td>\n",
       "      <td>no</td>\n",
       "      <td>0</td>\n",
       "      <td>control</td>\n",
       "    </tr>\n",
       "    <tr>\n",
       "      <th>9099</th>\n",
       "      <td>no</td>\n",
       "      <td>no</td>\n",
       "      <td>0</td>\n",
       "      <td>control</td>\n",
       "    </tr>\n",
       "    <tr>\n",
       "      <th>4707</th>\n",
       "      <td>no</td>\n",
       "      <td>no</td>\n",
       "      <td>0</td>\n",
       "      <td>control</td>\n",
       "    </tr>\n",
       "    <tr>\n",
       "      <th>5108</th>\n",
       "      <td>no</td>\n",
       "      <td>no</td>\n",
       "      <td>0</td>\n",
       "      <td>control</td>\n",
       "    </tr>\n",
       "    <tr>\n",
       "      <th>1481</th>\n",
       "      <td>no</td>\n",
       "      <td>no</td>\n",
       "      <td>0</td>\n",
       "      <td>control</td>\n",
       "    </tr>\n",
       "  </tbody>\n",
       "</table>\n",
       "</div>"
      ],
      "text/plain": [
       "      treatment new_images  converted   groups\n",
       "11397        no         no          0  control\n",
       "9099         no         no          0  control\n",
       "4707         no         no          0  control\n",
       "5108         no         no          0  control\n",
       "1481         no         no          0  control"
      ]
     },
     "execution_count": 13,
     "metadata": {},
     "output_type": "execute_result"
    }
   ],
   "source": [
    "control_group = df[(df['treatment'] == 'no') & (df['new_images'] == 'no')].sample(n=required_sample, random_state=27)\n",
    "control_group.head()"
   ]
  },
  {
   "cell_type": "markdown",
   "id": "ffba64e0-cca8-4322-bdf5-a56bd15c2bf2",
   "metadata": {},
   "source": [
    "## Control Group with new images"
   ]
  },
  {
   "cell_type": "code",
   "execution_count": 14,
   "id": "b5f42828-4d56-4bb8-a290-9d8c990ce685",
   "metadata": {},
   "outputs": [
    {
     "data": {
      "text/html": [
       "<div>\n",
       "<style scoped>\n",
       "    .dataframe tbody tr th:only-of-type {\n",
       "        vertical-align: middle;\n",
       "    }\n",
       "\n",
       "    .dataframe tbody tr th {\n",
       "        vertical-align: top;\n",
       "    }\n",
       "\n",
       "    .dataframe thead th {\n",
       "        text-align: right;\n",
       "    }\n",
       "</style>\n",
       "<table border=\"1\" class=\"dataframe\">\n",
       "  <thead>\n",
       "    <tr style=\"text-align: right;\">\n",
       "      <th></th>\n",
       "      <th>treatment</th>\n",
       "      <th>new_images</th>\n",
       "      <th>converted</th>\n",
       "      <th>groups</th>\n",
       "    </tr>\n",
       "  </thead>\n",
       "  <tbody>\n",
       "    <tr>\n",
       "      <th>11279</th>\n",
       "      <td>no</td>\n",
       "      <td>yes</td>\n",
       "      <td>1</td>\n",
       "      <td>old design with new images</td>\n",
       "    </tr>\n",
       "    <tr>\n",
       "      <th>9202</th>\n",
       "      <td>no</td>\n",
       "      <td>yes</td>\n",
       "      <td>0</td>\n",
       "      <td>old design with new images</td>\n",
       "    </tr>\n",
       "    <tr>\n",
       "      <th>4820</th>\n",
       "      <td>no</td>\n",
       "      <td>yes</td>\n",
       "      <td>0</td>\n",
       "      <td>old design with new images</td>\n",
       "    </tr>\n",
       "    <tr>\n",
       "      <th>5160</th>\n",
       "      <td>no</td>\n",
       "      <td>yes</td>\n",
       "      <td>0</td>\n",
       "      <td>old design with new images</td>\n",
       "    </tr>\n",
       "    <tr>\n",
       "      <th>1654</th>\n",
       "      <td>no</td>\n",
       "      <td>yes</td>\n",
       "      <td>0</td>\n",
       "      <td>old design with new images</td>\n",
       "    </tr>\n",
       "  </tbody>\n",
       "</table>\n",
       "</div>"
      ],
      "text/plain": [
       "      treatment new_images  converted                      groups\n",
       "11279        no        yes          1  old design with new images\n",
       "9202         no        yes          0  old design with new images\n",
       "4820         no        yes          0  old design with new images\n",
       "5160         no        yes          0  old design with new images\n",
       "1654         no        yes          0  old design with new images"
      ]
     },
     "execution_count": 14,
     "metadata": {},
     "output_type": "execute_result"
    }
   ],
   "source": [
    "control_newimages = df[(df['treatment'] == 'no') & (df['new_images'] == 'yes')].sample(n=required_sample, random_state=27)\n",
    "control_newimages.head()"
   ]
  },
  {
   "cell_type": "markdown",
   "id": "2ce36ab8-2816-40e0-9f50-a2cfc3e10f8b",
   "metadata": {},
   "source": [
    "## Treatment Group"
   ]
  },
  {
   "cell_type": "code",
   "execution_count": 15,
   "id": "b96ba3c9-6cf9-4a54-a4c3-514aa6601c96",
   "metadata": {},
   "outputs": [
    {
     "data": {
      "text/html": [
       "<div>\n",
       "<style scoped>\n",
       "    .dataframe tbody tr th:only-of-type {\n",
       "        vertical-align: middle;\n",
       "    }\n",
       "\n",
       "    .dataframe tbody tr th {\n",
       "        vertical-align: top;\n",
       "    }\n",
       "\n",
       "    .dataframe thead th {\n",
       "        text-align: right;\n",
       "    }\n",
       "</style>\n",
       "<table border=\"1\" class=\"dataframe\">\n",
       "  <thead>\n",
       "    <tr style=\"text-align: right;\">\n",
       "      <th></th>\n",
       "      <th>treatment</th>\n",
       "      <th>new_images</th>\n",
       "      <th>converted</th>\n",
       "      <th>groups</th>\n",
       "    </tr>\n",
       "  </thead>\n",
       "  <tbody>\n",
       "    <tr>\n",
       "      <th>11437</th>\n",
       "      <td>yes</td>\n",
       "      <td>no</td>\n",
       "      <td>1</td>\n",
       "      <td>new desing with new images</td>\n",
       "    </tr>\n",
       "    <tr>\n",
       "      <th>9329</th>\n",
       "      <td>yes</td>\n",
       "      <td>no</td>\n",
       "      <td>0</td>\n",
       "      <td>new desing with new images</td>\n",
       "    </tr>\n",
       "    <tr>\n",
       "      <th>4751</th>\n",
       "      <td>yes</td>\n",
       "      <td>no</td>\n",
       "      <td>0</td>\n",
       "      <td>new desing with new images</td>\n",
       "    </tr>\n",
       "    <tr>\n",
       "      <th>5183</th>\n",
       "      <td>yes</td>\n",
       "      <td>no</td>\n",
       "      <td>0</td>\n",
       "      <td>new desing with new images</td>\n",
       "    </tr>\n",
       "    <tr>\n",
       "      <th>1663</th>\n",
       "      <td>yes</td>\n",
       "      <td>no</td>\n",
       "      <td>0</td>\n",
       "      <td>new desing with new images</td>\n",
       "    </tr>\n",
       "  </tbody>\n",
       "</table>\n",
       "</div>"
      ],
      "text/plain": [
       "      treatment new_images  converted                      groups\n",
       "11437       yes         no          1  new desing with new images\n",
       "9329        yes         no          0  new desing with new images\n",
       "4751        yes         no          0  new desing with new images\n",
       "5183        yes         no          0  new desing with new images\n",
       "1663        yes         no          0  new desing with new images"
      ]
     },
     "execution_count": 15,
     "metadata": {},
     "output_type": "execute_result"
    }
   ],
   "source": [
    "treatment_group = df[(df['treatment'] == 'yes') & (df['new_images'] == 'no')].sample(n=required_sample, random_state=27)\n",
    "treatment_group.head()"
   ]
  },
  {
   "cell_type": "markdown",
   "id": "71640db1-ef05-441b-94ae-08c784de4228",
   "metadata": {},
   "source": [
    "## Treatment Group with new images"
   ]
  },
  {
   "cell_type": "code",
   "execution_count": 16,
   "id": "42de323d-8c01-48bc-980a-d76b8de04dc7",
   "metadata": {},
   "outputs": [
    {
     "data": {
      "text/html": [
       "<div>\n",
       "<style scoped>\n",
       "    .dataframe tbody tr th:only-of-type {\n",
       "        vertical-align: middle;\n",
       "    }\n",
       "\n",
       "    .dataframe tbody tr th {\n",
       "        vertical-align: top;\n",
       "    }\n",
       "\n",
       "    .dataframe thead th {\n",
       "        text-align: right;\n",
       "    }\n",
       "</style>\n",
       "<table border=\"1\" class=\"dataframe\">\n",
       "  <thead>\n",
       "    <tr style=\"text-align: right;\">\n",
       "      <th></th>\n",
       "      <th>treatment</th>\n",
       "      <th>new_images</th>\n",
       "      <th>converted</th>\n",
       "      <th>groups</th>\n",
       "    </tr>\n",
       "  </thead>\n",
       "  <tbody>\n",
       "    <tr>\n",
       "      <th>11310</th>\n",
       "      <td>yes</td>\n",
       "      <td>yes</td>\n",
       "      <td>0</td>\n",
       "      <td>new desing</td>\n",
       "    </tr>\n",
       "    <tr>\n",
       "      <th>9204</th>\n",
       "      <td>yes</td>\n",
       "      <td>yes</td>\n",
       "      <td>0</td>\n",
       "      <td>new desing</td>\n",
       "    </tr>\n",
       "    <tr>\n",
       "      <th>4864</th>\n",
       "      <td>yes</td>\n",
       "      <td>yes</td>\n",
       "      <td>0</td>\n",
       "      <td>new desing</td>\n",
       "    </tr>\n",
       "    <tr>\n",
       "      <th>5331</th>\n",
       "      <td>yes</td>\n",
       "      <td>yes</td>\n",
       "      <td>0</td>\n",
       "      <td>new desing</td>\n",
       "    </tr>\n",
       "    <tr>\n",
       "      <th>1643</th>\n",
       "      <td>yes</td>\n",
       "      <td>yes</td>\n",
       "      <td>1</td>\n",
       "      <td>new desing</td>\n",
       "    </tr>\n",
       "  </tbody>\n",
       "</table>\n",
       "</div>"
      ],
      "text/plain": [
       "      treatment new_images  converted      groups\n",
       "11310       yes        yes          0  new desing\n",
       "9204        yes        yes          0  new desing\n",
       "4864        yes        yes          0  new desing\n",
       "5331        yes        yes          0  new desing\n",
       "1643        yes        yes          1  new desing"
      ]
     },
     "execution_count": 16,
     "metadata": {},
     "output_type": "execute_result"
    }
   ],
   "source": [
    "treatment_newimages = df[(df['treatment'] == 'yes') & (df['new_images'] == 'yes')].sample(n=required_sample, random_state=27)\n",
    "treatment_newimages.head()"
   ]
  },
  {
   "cell_type": "markdown",
   "id": "49c5afbe-f077-4a95-8175-f7c0111f065b",
   "metadata": {},
   "source": [
    "# Dataframe with sample groups"
   ]
  },
  {
   "cell_type": "code",
   "execution_count": 17,
   "id": "c4dd1e99-03fc-4d9d-aeee-9b929b6c8e57",
   "metadata": {},
   "outputs": [
    {
     "data": {
      "text/html": [
       "<div>\n",
       "<style scoped>\n",
       "    .dataframe tbody tr th:only-of-type {\n",
       "        vertical-align: middle;\n",
       "    }\n",
       "\n",
       "    .dataframe tbody tr th {\n",
       "        vertical-align: top;\n",
       "    }\n",
       "\n",
       "    .dataframe thead th {\n",
       "        text-align: right;\n",
       "    }\n",
       "</style>\n",
       "<table border=\"1\" class=\"dataframe\">\n",
       "  <thead>\n",
       "    <tr style=\"text-align: right;\">\n",
       "      <th></th>\n",
       "      <th>treatment</th>\n",
       "      <th>new_images</th>\n",
       "      <th>converted</th>\n",
       "      <th>groups</th>\n",
       "    </tr>\n",
       "  </thead>\n",
       "  <tbody>\n",
       "    <tr>\n",
       "      <th>0</th>\n",
       "      <td>no</td>\n",
       "      <td>no</td>\n",
       "      <td>0</td>\n",
       "      <td>control</td>\n",
       "    </tr>\n",
       "    <tr>\n",
       "      <th>1</th>\n",
       "      <td>no</td>\n",
       "      <td>no</td>\n",
       "      <td>0</td>\n",
       "      <td>control</td>\n",
       "    </tr>\n",
       "    <tr>\n",
       "      <th>2</th>\n",
       "      <td>no</td>\n",
       "      <td>no</td>\n",
       "      <td>0</td>\n",
       "      <td>control</td>\n",
       "    </tr>\n",
       "    <tr>\n",
       "      <th>3</th>\n",
       "      <td>no</td>\n",
       "      <td>no</td>\n",
       "      <td>0</td>\n",
       "      <td>control</td>\n",
       "    </tr>\n",
       "    <tr>\n",
       "      <th>4</th>\n",
       "      <td>no</td>\n",
       "      <td>no</td>\n",
       "      <td>0</td>\n",
       "      <td>control</td>\n",
       "    </tr>\n",
       "    <tr>\n",
       "      <th>...</th>\n",
       "      <td>...</td>\n",
       "      <td>...</td>\n",
       "      <td>...</td>\n",
       "      <td>...</td>\n",
       "    </tr>\n",
       "    <tr>\n",
       "      <th>16199</th>\n",
       "      <td>yes</td>\n",
       "      <td>yes</td>\n",
       "      <td>0</td>\n",
       "      <td>new desing</td>\n",
       "    </tr>\n",
       "    <tr>\n",
       "      <th>16200</th>\n",
       "      <td>yes</td>\n",
       "      <td>yes</td>\n",
       "      <td>0</td>\n",
       "      <td>new desing</td>\n",
       "    </tr>\n",
       "    <tr>\n",
       "      <th>16201</th>\n",
       "      <td>yes</td>\n",
       "      <td>yes</td>\n",
       "      <td>0</td>\n",
       "      <td>new desing</td>\n",
       "    </tr>\n",
       "    <tr>\n",
       "      <th>16202</th>\n",
       "      <td>yes</td>\n",
       "      <td>yes</td>\n",
       "      <td>1</td>\n",
       "      <td>new desing</td>\n",
       "    </tr>\n",
       "    <tr>\n",
       "      <th>16203</th>\n",
       "      <td>yes</td>\n",
       "      <td>yes</td>\n",
       "      <td>0</td>\n",
       "      <td>new desing</td>\n",
       "    </tr>\n",
       "  </tbody>\n",
       "</table>\n",
       "<p>16204 rows × 4 columns</p>\n",
       "</div>"
      ],
      "text/plain": [
       "      treatment new_images  converted      groups\n",
       "0            no         no          0     control\n",
       "1            no         no          0     control\n",
       "2            no         no          0     control\n",
       "3            no         no          0     control\n",
       "4            no         no          0     control\n",
       "...         ...        ...        ...         ...\n",
       "16199       yes        yes          0  new desing\n",
       "16200       yes        yes          0  new desing\n",
       "16201       yes        yes          0  new desing\n",
       "16202       yes        yes          1  new desing\n",
       "16203       yes        yes          0  new desing\n",
       "\n",
       "[16204 rows x 4 columns]"
      ]
     },
     "execution_count": 17,
     "metadata": {},
     "output_type": "execute_result"
    }
   ],
   "source": [
    "ab_test = pd.concat([control_group, control_newimages, treatment_group, treatment_newimages]).reset_index(drop=True)\n",
    "ab_test"
   ]
  },
  {
   "cell_type": "markdown",
   "id": "075a1ba5-5a87-4e4c-a4fc-59049c3449d8",
   "metadata": {},
   "source": [
    "## % Converted by groups with the selected sample"
   ]
  },
  {
   "cell_type": "code",
   "execution_count": 18,
   "id": "bbd76f45-b75e-4e64-9630-25b796e51fcf",
   "metadata": {},
   "outputs": [
    {
     "data": {
      "text/html": [
       "<style  type=\"text/css\" >\n",
       "</style><table id=\"T_c0e52_\" ><thead>    <tr>        <th class=\"blank level0\" ></th>        <th class=\"col_heading level0 col0\" >conversion_rate</th>        <th class=\"col_heading level0 col1\" >std_deviation</th>        <th class=\"col_heading level0 col2\" >std_error</th>    </tr>    <tr>        <th class=\"index_name level0\" >groups</th>        <th class=\"blank\" ></th>        <th class=\"blank\" ></th>        <th class=\"blank\" ></th>    </tr></thead><tbody>\n",
       "                <tr>\n",
       "                        <th id=\"T_c0e52_level0_row0\" class=\"row_heading level0 row0\" >control</th>\n",
       "                        <td id=\"T_c0e52_row0_col0\" class=\"data row0 col0\" >0.108</td>\n",
       "                        <td id=\"T_c0e52_row0_col1\" class=\"data row0 col1\" >0.310</td>\n",
       "                        <td id=\"T_c0e52_row0_col2\" class=\"data row0 col2\" >0.005</td>\n",
       "            </tr>\n",
       "            <tr>\n",
       "                        <th id=\"T_c0e52_level0_row1\" class=\"row_heading level0 row1\" >new desing</th>\n",
       "                        <td id=\"T_c0e52_row1_col0\" class=\"data row1 col0\" >0.103</td>\n",
       "                        <td id=\"T_c0e52_row1_col1\" class=\"data row1 col1\" >0.304</td>\n",
       "                        <td id=\"T_c0e52_row1_col2\" class=\"data row1 col2\" >0.005</td>\n",
       "            </tr>\n",
       "            <tr>\n",
       "                        <th id=\"T_c0e52_level0_row2\" class=\"row_heading level0 row2\" >new desing with new images</th>\n",
       "                        <td id=\"T_c0e52_row2_col0\" class=\"data row2 col0\" >0.122</td>\n",
       "                        <td id=\"T_c0e52_row2_col1\" class=\"data row2 col1\" >0.327</td>\n",
       "                        <td id=\"T_c0e52_row2_col2\" class=\"data row2 col2\" >0.005</td>\n",
       "            </tr>\n",
       "            <tr>\n",
       "                        <th id=\"T_c0e52_level0_row3\" class=\"row_heading level0 row3\" >old design with new images</th>\n",
       "                        <td id=\"T_c0e52_row3_col0\" class=\"data row3 col0\" >0.111</td>\n",
       "                        <td id=\"T_c0e52_row3_col1\" class=\"data row3 col1\" >0.314</td>\n",
       "                        <td id=\"T_c0e52_row3_col2\" class=\"data row3 col2\" >0.005</td>\n",
       "            </tr>\n",
       "    </tbody></table>"
      ],
      "text/plain": [
       "<pandas.io.formats.style.Styler at 0x7fdd9878b670>"
      ]
     },
     "execution_count": 18,
     "metadata": {},
     "output_type": "execute_result"
    }
   ],
   "source": [
    "conversion_rates = ab_test.groupby('groups')['converted'].agg([np.mean,\n",
    "                                                              np.std,\n",
    "                                                              stats.sem])\n",
    "conversion_rates.columns = ['conversion_rate', 'std_deviation', 'std_error']\n",
    "conversion_rates.style.format('{:.3f}')"
   ]
  },
  {
   "cell_type": "code",
   "execution_count": 19,
   "id": "f0a36c87-6c6c-4b87-9682-82bde1b9feed",
   "metadata": {},
   "outputs": [
    {
     "data": {
      "image/png": "[encoded data removed]",
      "text/plain": [
       "<Figure size 864x576 with 1 Axes>"
      ]
     },
     "metadata": {
      "needs_background": "light"
     },
     "output_type": "display_data"
    }
   ],
   "source": [
    "plt.figure(figsize=(12,8))\n",
    "ax = sns.countplot(x=\"groups\", hue=\"converted\", data=ab_test)\n",
    "plt.title('Conversion rate by group', pad=20)\n",
    "plt.xlabel('Converted (proportion)', labelpad=15)\n",
    "plt.ylabel('Group', labelpad=15)\n",
    "\n",
    "for p in ax.patches:\n",
    "        ax.annotate('{:.1f}'.format(p.get_height()), (p.get_x()+0.1, p.get_height()+50))"
   ]
  },
  {
   "cell_type": "markdown",
   "id": "9dfea10a-d083-4794-af00-0ad71dc326df",
   "metadata": {},
   "source": [
    "# A/B testing with Sample Data"
   ]
  },
  {
   "cell_type": "markdown",
   "id": "d23c4708-91bf-4df3-b0e1-7122b2c725d1",
   "metadata": {},
   "source": [
    "## A/B testing with respect to the control group and the treatment group"
   ]
  },
  {
   "cell_type": "code",
   "execution_count": 20,
   "id": "7ddc3ab0-8a9e-4dfe-9549-48ba49b702bb",
   "metadata": {},
   "outputs": [],
   "source": [
    "control_results = control_group['converted']\n",
    "treat_results = treatment_group['converted']\n",
    "\n",
    "# Number of samples by group\n",
    "control_samples = control_results.count()\n",
    "treat_samples = treat_results.count()\n",
    "nobs = [control_samples, treat_samples]\n",
    "\n",
    "# Users converted\n",
    "successes = [control_results.sum(), treat_results.sum()]"
   ]
  },
  {
   "cell_type": "code",
   "execution_count": 21,
   "id": "16237079-1b7c-4acb-b44a-7dfe31ce51d8",
   "metadata": {},
   "outputs": [],
   "source": [
    "z_stat, p_value = proportions_ztest(successes, nobs=nobs)\n",
    "(lower_con, lower_treat), (upper_con, upper_treat) = proportion_confint(successes, nobs=nobs, alpha=0.05)"
   ]
  },
  {
   "cell_type": "code",
   "execution_count": 22,
   "id": "1fe4b3f8-e9c5-4c37-b780-39ab1ca2398a",
   "metadata": {},
   "outputs": [
    {
     "name": "stdout",
     "output_type": "stream",
     "text": [
      "z statistic: -1.99\n",
      "p-value: 0.047\n",
      "ci 95% for control group: [0.098, 0.117]\n",
      "ci 95% for treatment group: [0.112, 0.132]\n"
     ]
    }
   ],
   "source": [
    "print(f'z statistic: {z_stat:.2f}')\n",
    "print(f'p-value: {p_value:.3f}')\n",
    "print(f'ci 95% for control group: [{lower_con:.3f}, {upper_con:.3f}]')\n",
    "print(f'ci 95% for treatment group: [{lower_treat:.3f}, {upper_treat:.3f}]')"
   ]
  },
  {
   "cell_type": "markdown",
   "id": "3fcaa5a7-7104-4593-a89b-34fd1844c4fa",
   "metadata": {},
   "source": [
    "Since our p-value=0.047 is below our α=0.05 threshold, we can reject the Null hypothesis Hₒ, which means that our new design perform significantly different than our control group.\n",
    "\n",
    "if we look at the confidence interval for the treatment group [0.1112, 0.132] we notice that:\n",
    "- It includes our target value of 12.7% (the 2% uplift we were aiming for)"
   ]
  },
  {
   "cell_type": "markdown",
   "id": "963d3325-6720-42ad-9bd9-c4b3de6c209e",
   "metadata": {},
   "source": [
    "## A/B Testing with respect control group and control with new images group"
   ]
  },
  {
   "cell_type": "code",
   "execution_count": 23,
   "id": "031764ed-2801-474e-bdaf-5754457feced",
   "metadata": {},
   "outputs": [],
   "source": [
    "control_results = control_group['converted']\n",
    "control_newimages_results = control_newimages['converted']\n",
    "\n",
    "# Number of samples by group\n",
    "control_samples = control_results.count()\n",
    "control_newimages_samples = control_newimages_results.count()\n",
    "nobs = [control_samples, control_newimages_samples]\n",
    "\n",
    "# Users converted\n",
    "successes = [control_results.sum(), control_newimages_results.sum()]"
   ]
  },
  {
   "cell_type": "code",
   "execution_count": 24,
   "id": "d5cd5e47-b5cd-4ec1-8b07-6ad392784afe",
   "metadata": {},
   "outputs": [],
   "source": [
    "z_stat, p_value = proportions_ztest(successes, nobs=nobs)\n",
    "(lower_con, lower_treat), (upper_con, upper_treat) = proportion_confint(successes, nobs=nobs, alpha=0.05)"
   ]
  },
  {
   "cell_type": "code",
   "execution_count": 25,
   "id": "cbf49c42-923f-483c-824f-27d8145b5b6a",
   "metadata": {},
   "outputs": [
    {
     "name": "stdout",
     "output_type": "stream",
     "text": [
      "z statistic: -0.43\n",
      "p-value: 0.669\n",
      "ci 95% for control group: [0.098, 0.117]\n",
      "ci 95% for control group with new images: [0.101, 0.121]\n"
     ]
    }
   ],
   "source": [
    "print(f'z statistic: {z_stat:.2f}')\n",
    "print(f'p-value: {p_value:.3f}')\n",
    "print(f'ci 95% for control group: [{lower_con:.3f}, {upper_con:.3f}]')\n",
    "print(f'ci 95% for control group with new images: [{lower_treat:.3f}, {upper_treat:.3f}]')"
   ]
  },
  {
   "cell_type": "markdown",
   "id": "c53a24a3-a973-4ce0-b9e1-46ce7c08ec82",
   "metadata": {},
   "source": [
    "Since our p-value=0.669 is above our α=0.05 threshold, we can't reject the Null hypothesis Hₒ, which means that our control design with new images dit not perform significantly different than our control group.\n",
    "\n",
    "if we look at the confidence interval for the control group with new images [0.101, 0.121] we notice that:\n",
    "- It includes our baseline value of 10.7% conversion rate\n",
    "- It doesn't include our target value of 12.7% (the 2% uplift we were aiming for)"
   ]
  },
  {
   "cell_type": "markdown",
   "id": "101c8a80-46f1-416c-8678-81ffc23770f1",
   "metadata": {},
   "source": [
    "## A/B Testing with respect control group and treatment with new images group"
   ]
  },
  {
   "cell_type": "code",
   "execution_count": 26,
   "id": "192ee797-0b6f-42ba-b36d-3a4b10b9d43d",
   "metadata": {},
   "outputs": [],
   "source": [
    "control_results = control_group['converted']\n",
    "treatment_newimages_results = treatment_newimages['converted']\n",
    "\n",
    "# Number of samples by group\n",
    "control_samples = control_results.count()\n",
    "treatment_newimages_samples = treatment_newimages_results.count()\n",
    "nobs = [control_samples, treatment_newimages_samples]\n",
    "\n",
    "# Users converted\n",
    "successes = [control_results.sum(), treatment_newimages_results.sum()]"
   ]
  },
  {
   "cell_type": "code",
   "execution_count": 27,
   "id": "00fb457a-16d5-450d-a8a9-f53c0ab6f39d",
   "metadata": {},
   "outputs": [],
   "source": [
    "z_stat, p_value = proportions_ztest(successes, nobs=nobs)\n",
    "(lower_con, lower_treat), (upper_con, upper_treat) = proportion_confint(successes, nobs=nobs, alpha=0.05)"
   ]
  },
  {
   "cell_type": "code",
   "execution_count": 28,
   "id": "0c2b08d8-ce0b-417a-8fd7-933b4b13e380",
   "metadata": {},
   "outputs": [
    {
     "name": "stdout",
     "output_type": "stream",
     "text": [
      "z statistic: 0.72\n",
      "p-value: 0.469\n",
      "ci 95% for control group: [0.098, 0.117]\n",
      "ci 95% for treatment group with new images: [0.094, 0.112]\n"
     ]
    }
   ],
   "source": [
    "print(f'z statistic: {z_stat:.2f}')\n",
    "print(f'p-value: {p_value:.3f}')\n",
    "print(f'ci 95% for control group: [{lower_con:.3f}, {upper_con:.3f}]')\n",
    "print(f'ci 95% for treatment group with new images: [{lower_treat:.3f}, {upper_treat:.3f}]')"
   ]
  },
  {
   "cell_type": "markdown",
   "id": "e5a9c731-38e4-4743-ac87-6e7e13e54a17",
   "metadata": {},
   "source": [
    "Since our p-value=0.469 is above our α=0.05 threshold, we can't reject the Null hypothesis Hₒ, which means that our control design with new images dit not perform significantly different than our control group.\n",
    "\n",
    "if we look at the confidence interval for the control group with new images [0.094, 0.112] we notice that:\n",
    "- It includes our baseline value of 10.7% conversion rate\n",
    "- It doesn't include our target value of 12.7% (the 2% uplift we were aiming for)"
   ]
  },
  {
   "cell_type": "markdown",
   "id": "4e75ab3c-949a-4a60-bd38-21a3887bb8e7",
   "metadata": {},
   "source": [
    "# Using All data"
   ]
  },
  {
   "cell_type": "markdown",
   "id": "35bb6788-a687-4dd6-851e-39a4cee1075b",
   "metadata": {},
   "source": [
    "## A/B Testing with respect control group and treatment group"
   ]
  },
  {
   "cell_type": "code",
   "execution_count": 29,
   "id": "34fd74ee-c81d-45c3-9153-b98df9f59557",
   "metadata": {},
   "outputs": [],
   "source": [
    "control_results = df[(df['treatment'] == 'no') & (df['new_images'] == 'no')]['converted']\n",
    "treat_results = df[(df['treatment'] == 'yes') & (df['new_images'] == 'no')]['converted']\n",
    "\n",
    "# Number of samples by group\n",
    "control_samples = control_results.count()\n",
    "treat_samples = treat_results.count()\n",
    "nobs = [control_samples, treat_samples]\n",
    "\n",
    "# Users converted\n",
    "successes = [control_results.sum(), treat_results.sum()]"
   ]
  },
  {
   "cell_type": "code",
   "execution_count": 30,
   "id": "be3e1af9-12ea-4488-8d93-e729ab0c4283",
   "metadata": {},
   "outputs": [],
   "source": [
    "z_stat, p_value = proportions_ztest(successes, nobs=nobs)\n",
    "(lower_con, lower_treat), (upper_con, upper_treat) = proportion_confint(successes, nobs=nobs, alpha=0.05)"
   ]
  },
  {
   "cell_type": "code",
   "execution_count": 31,
   "id": "508bf726-1664-449a-932c-d9b86650c8bc",
   "metadata": {},
   "outputs": [
    {
     "name": "stdout",
     "output_type": "stream",
     "text": [
      "z statistic: -2.90\n",
      "p-value: 0.004\n",
      "ci 95% for control group: [0.101, 0.113]\n",
      "ci 95% for treatment group: [0.114, 0.126]\n"
     ]
    }
   ],
   "source": [
    "print(f'z statistic: {z_stat:.2f}')\n",
    "print(f'p-value: {p_value:.3f}')\n",
    "print(f'ci 95% for control group: [{lower_con:.3f}, {upper_con:.3f}]')\n",
    "print(f'ci 95% for treatment group: [{lower_treat:.3f}, {upper_treat:.3f}]')"
   ]
  },
  {
   "cell_type": "markdown",
   "id": "6e583bd1-c55f-40a6-9ca9-b97ce556f054",
   "metadata": {},
   "source": [
    "Since our p-value=0.004 is below our α=0.05 threshold, we can reject the Null hypothesis Hₒ, which means that our new design perform significantly different than our control group.\n",
    "\n",
    "Additionally, if we look at the confidence interval for the treatment group [0.114, 0.126] we notice that:\n",
    "- It includes our target value of 12.7% (the 2% uplift we were aiming for)"
   ]
  },
  {
   "cell_type": "markdown",
   "id": "99ba94fb-ebad-4c62-9524-65f185c4355a",
   "metadata": {},
   "source": [
    "## A/B Testing with respect control group and control with new images group"
   ]
  },
  {
   "cell_type": "code",
   "execution_count": 32,
   "id": "98644084-b2d9-4064-8ee8-2feb88e031f9",
   "metadata": {},
   "outputs": [],
   "source": [
    "control_results = df[(df['treatment'] == 'no') & (df['new_images'] == 'no')]['converted']\n",
    "control_newimages_results = df[(df['treatment'] == 'no') & (df['new_images'] == 'yes')]['converted']\n",
    "\n",
    "# Number of samples by group\n",
    "control_samples = control_results.count()\n",
    "control_newimages_samples = control_newimages_results.count()\n",
    "nobs = [control_samples, control_newimages_samples]\n",
    "\n",
    "# Users converted\n",
    "successes = [control_results.sum(), control_newimages_results.sum()]"
   ]
  },
  {
   "cell_type": "code",
   "execution_count": 33,
   "id": "c136d3b0-de9d-4e6e-ab1a-46368a0ab234",
   "metadata": {},
   "outputs": [],
   "source": [
    "z_stat, p_value = proportions_ztest(successes, nobs=nobs)\n",
    "(lower_con, lower_treat), (upper_con, upper_treat) = proportion_confint(successes, nobs=nobs, alpha=0.05)"
   ]
  },
  {
   "cell_type": "code",
   "execution_count": 34,
   "id": "499dda8b-2a13-42ad-88ca-f54135b9d721",
   "metadata": {},
   "outputs": [
    {
     "name": "stdout",
     "output_type": "stream",
     "text": [
      "z statistic: -1.24\n",
      "p-value: 0.216\n",
      "ci 95% for control group: [0.101, 0.113]\n",
      "ci 95% for control group with new images: [0.106, 0.119]\n"
     ]
    }
   ],
   "source": [
    "print(f'z statistic: {z_stat:.2f}')\n",
    "print(f'p-value: {p_value:.3f}')\n",
    "print(f'ci 95% for control group: [{lower_con:.3f}, {upper_con:.3f}]')\n",
    "print(f'ci 95% for control group with new images: [{lower_treat:.3f}, {upper_treat:.3f}]')"
   ]
  },
  {
   "cell_type": "markdown",
   "id": "ed49b55a-9b88-4a9f-90ae-a9d9969a3e36",
   "metadata": {},
   "source": [
    "Since our p-value=0.216 is above our α=0.05 threshold, we can't reject the Null hypothesis Hₒ, which means that our control design with new images dit not perform significantly different than our control group.\n",
    "\n",
    "if we look at the confidence interval for the control group with new images [0.106, 0.119] we notice that:\n",
    "- It includes our baseline value of aprox. 10.7% conversion rate\n",
    "- It doesn't include our target value of 12.7% (the 2% uplift we were aiming for)"
   ]
  },
  {
   "cell_type": "markdown",
   "id": "73d9a21b-729b-4ab4-b4b9-adeaa26fefa6",
   "metadata": {},
   "source": [
    "## A/B Testing with respect control group and treatment with new images group"
   ]
  },
  {
   "cell_type": "code",
   "execution_count": 35,
   "id": "17e00a62-443a-41f0-bade-d8feab2fa57d",
   "metadata": {},
   "outputs": [],
   "source": [
    "control_results = df[(df['treatment'] == 'no') & (df['new_images'] == 'no')]['converted']\n",
    "treatment_newimages_results = df[(df['treatment'] == 'yes') & (df['new_images'] == 'yes')]['converted']\n",
    "\n",
    "# Number of samples by group\n",
    "control_samples = control_results.count()\n",
    "treatment_newimages_samples = treatment_newimages_results.count()\n",
    "nobs = [control_samples, treatment_newimages_samples]\n",
    "\n",
    "# Users converted\n",
    "successes = [control_results.sum(), treatment_newimages_results.sum()]"
   ]
  },
  {
   "cell_type": "code",
   "execution_count": 36,
   "id": "e4e77edb-3e62-4a09-863f-262cada68a21",
   "metadata": {},
   "outputs": [],
   "source": [
    "z_stat, p_value = proportions_ztest(successes, nobs=nobs)\n",
    "(lower_con, lower_treat), (upper_con, upper_treat) = proportion_confint(successes, nobs=nobs, alpha=0.05)"
   ]
  },
  {
   "cell_type": "code",
   "execution_count": 37,
   "id": "ec345193-fc9e-4127-9c1d-d61921c150b6",
   "metadata": {},
   "outputs": [
    {
     "name": "stdout",
     "output_type": "stream",
     "text": [
      "z statistic: -1.50\n",
      "p-value: 0.133\n",
      "ci 95% for control group: [0.101, 0.113]\n",
      "ci 95% for treatment group: [0.108, 0.120]\n"
     ]
    }
   ],
   "source": [
    "print(f'z statistic: {z_stat:.2f}')\n",
    "print(f'p-value: {p_value:.3f}')\n",
    "print(f'ci 95% for control group: [{lower_con:.3f}, {upper_con:.3f}]')\n",
    "print(f'ci 95% for treatment group: [{lower_treat:.3f}, {upper_treat:.3f}]')"
   ]
  },
  {
   "cell_type": "markdown",
   "id": "19666097-804f-4106-9833-808641756b57",
   "metadata": {},
   "source": [
    "Since our p-value=0.133 is above our α=0.05 threshold, we can't reject the Null hypothesis Hₒ, which means that our control design with new images dit not perform significantly different than our control group.\n",
    "\n",
    "if we look at the confidence interval for the control group with new images [0.108, 0.120] we notice that:\n",
    "- It includes our baseline value of aprox. 10.7% conversion rate\n",
    "- It doesn't include our target value of 12.7% (the 2% uplift we were aiming for)"
   ]
  },
  {
   "cell_type": "markdown",
   "id": "c1c98747-4f5c-4484-b9ea-c24dcc0c7169",
   "metadata": {},
   "source": [
    "# Conclusion"
   ]
  },
  {
   "cell_type": "markdown",
   "id": "0d58b407-a01c-4a96-95df-1acb3ecd00cf",
   "metadata": {},
   "source": [
    "- As can be seen in the results, the only group that performed significantly different and better from the control group was the group with the new design and no new images. So, we should use this version.\n",
    "- It can be seen that the appropriate sample of groups was chosen since the same conclusion was reached by using all the data."
   ]
  },
  {
   "cell_type": "code",
   "execution_count": null,
   "id": "88b03331-b970-41bf-980a-c06d13826dde",
   "metadata": {},
   "outputs": [],
   "source": []
  }
 ],
 "metadata": {
  "kernelspec": {
   "display_name": "Python 3 (ipykernel)",
   "language": "python",
   "name": "python3"
  },
  "language_info": {
   "codemirror_mode": {
    "name": "ipython",
    "version": 3
   },
   "file_extension": ".py",
   "mimetype": "text/x-python",
   "name": "python",
   "nbconvert_exporter": "python",
   "pygments_lexer": "ipython3",
   "version": "3.8.10"
  }
 },
 "nbformat": 4,
 "nbformat_minor": 5
}
